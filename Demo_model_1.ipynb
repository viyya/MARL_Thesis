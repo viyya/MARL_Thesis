{
  "cells": [
    {
      "cell_type": "code",
      "execution_count": 1,
      "metadata": {
        "colab": {
          "base_uri": "https://localhost:8080/"
        },
        "id": "o5IM4OIjYy0r",
        "outputId": "772f76ae-8b2e-4a6d-bd4c-9cce733d84cf"
      },
      "outputs": [
        {
          "output_type": "stream",
          "name": "stdout",
          "text": [
            "Mounted at /content/drive\n",
            "Looking in indexes: https://pypi.org/simple, https://us-python.pkg.dev/colab-wheels/public/simple/\n",
            "Collecting py7zr\n",
            "  Downloading py7zr-0.20.5-py3-none-any.whl (66 kB)\n",
            "\u001b[2K     \u001b[90m━━━━━━━━━━━━━━━━━━━━━━━━━━━━━━━━━━━━━━━━\u001b[0m \u001b[32m66.4/66.4 kB\u001b[0m \u001b[31m5.0 MB/s\u001b[0m eta \u001b[36m0:00:00\u001b[0m\n",
            "\u001b[?25hCollecting texttable (from py7zr)\n",
            "  Downloading texttable-1.6.7-py2.py3-none-any.whl (10 kB)\n",
            "Collecting pycryptodomex>=3.6.6 (from py7zr)\n",
            "  Downloading pycryptodomex-3.17-cp35-abi3-manylinux_2_17_x86_64.manylinux2014_x86_64.whl (2.1 MB)\n",
            "\u001b[2K     \u001b[90m━━━━━━━━━━━━━━━━━━━━━━━━━━━━━━━━━━━━━━━━\u001b[0m \u001b[32m2.1/2.1 MB\u001b[0m \u001b[31m57.0 MB/s\u001b[0m eta \u001b[36m0:00:00\u001b[0m\n",
            "\u001b[?25hCollecting pyzstd>=0.14.4 (from py7zr)\n",
            "  Downloading pyzstd-0.15.7-cp310-cp310-manylinux_2_17_x86_64.manylinux2014_x86_64.whl (399 kB)\n",
            "\u001b[2K     \u001b[90m━━━━━━━━━━━━━━━━━━━━━━━━━━━━━━━━━━━━━━\u001b[0m \u001b[32m399.3/399.3 kB\u001b[0m \u001b[31m42.0 MB/s\u001b[0m eta \u001b[36m0:00:00\u001b[0m\n",
            "\u001b[?25hCollecting pyppmd<1.1.0,>=0.18.1 (from py7zr)\n",
            "  Downloading pyppmd-1.0.0-cp310-cp310-manylinux_2_17_x86_64.manylinux2014_x86_64.whl (138 kB)\n",
            "\u001b[2K     \u001b[90m━━━━━━━━━━━━━━━━━━━━━━━━━━━━━━━━━━━━━━\u001b[0m \u001b[32m138.8/138.8 kB\u001b[0m \u001b[31m18.3 MB/s\u001b[0m eta \u001b[36m0:00:00\u001b[0m\n",
            "\u001b[?25hCollecting pybcj>=0.6.0 (from py7zr)\n",
            "  Downloading pybcj-1.0.1-cp310-cp310-manylinux_2_17_x86_64.manylinux2014_x86_64.whl (49 kB)\n",
            "\u001b[2K     \u001b[90m━━━━━━━━━━━━━━━━━━━━━━━━━━━━━━━━━━━━━━━━\u001b[0m \u001b[32m49.8/49.8 kB\u001b[0m \u001b[31m6.7 MB/s\u001b[0m eta \u001b[36m0:00:00\u001b[0m\n",
            "\u001b[?25hCollecting multivolumefile>=0.2.3 (from py7zr)\n",
            "  Downloading multivolumefile-0.2.3-py3-none-any.whl (17 kB)\n",
            "Collecting brotli>=1.0.9 (from py7zr)\n",
            "  Downloading Brotli-1.0.9-cp310-cp310-manylinux_2_5_x86_64.manylinux1_x86_64.manylinux_2_12_x86_64.manylinux2010_x86_64.whl (2.7 MB)\n",
            "\u001b[2K     \u001b[90m━━━━━━━━━━━━━━━━━━━━━━━━━━━━━━━━━━━━━━━━\u001b[0m \u001b[32m2.7/2.7 MB\u001b[0m \u001b[31m97.9 MB/s\u001b[0m eta \u001b[36m0:00:00\u001b[0m\n",
            "\u001b[?25hCollecting inflate64>=0.3.1 (from py7zr)\n",
            "  Downloading inflate64-0.3.1-cp310-cp310-manylinux_2_17_x86_64.manylinux2014_x86_64.whl (93 kB)\n",
            "\u001b[2K     \u001b[90m━━━━━━━━━━━━━━━━━━━━━━━━━━━━━━━━━━━━━━━━\u001b[0m \u001b[32m93.1/93.1 kB\u001b[0m \u001b[31m13.4 MB/s\u001b[0m eta \u001b[36m0:00:00\u001b[0m\n",
            "\u001b[?25hRequirement already satisfied: psutil in /usr/local/lib/python3.10/dist-packages (from py7zr) (5.9.5)\n",
            "Installing collected packages: texttable, brotli, pyzstd, pyppmd, pycryptodomex, pybcj, multivolumefile, inflate64, py7zr\n",
            "Successfully installed brotli-1.0.9 inflate64-0.3.1 multivolumefile-0.2.3 py7zr-0.20.5 pybcj-1.0.1 pycryptodomex-3.17 pyppmd-1.0.0 pyzstd-0.15.7 texttable-1.6.7\n"
          ]
        }
      ],
      "source": [
        "from google.colab import drive\n",
        "drive.mount('/content/drive')\n",
        "!pip install py7zr"
      ]
    },
    {
      "cell_type": "code",
      "execution_count": 2,
      "metadata": {
        "id": "05mGOw85ZDrd"
      },
      "outputs": [],
      "source": [
        "import py7zr\n",
        "\n",
        "with py7zr.SevenZipFile('/content/drive/MyDrive/data.7z', mode='r') as archive:\n",
        "    archive.extractall(path='/content/data')\n"
      ]
    },
    {
      "cell_type": "code",
      "execution_count": 4,
      "metadata": {
        "id": "NKVUquBrWzOx"
      },
      "outputs": [],
      "source": [
        "# Image Preparation\n",
        "from image_processor import ImageProcessor\n",
        "\n",
        "csv_path = \"/content/New_labels.csv\"\n",
        "image_folder = \"/content/data/data/\"\n",
        "\n",
        "processor = ImageProcessor(csv_path, image_folder)\n",
        "img_data, labels = processor.process_images()\n",
        "\n",
        "\n"
      ]
    },
    {
      "cell_type": "code",
      "execution_count": 5,
      "metadata": {
        "id": "LOs6j2yTYT8r"
      },
      "outputs": [],
      "source": [
        "# Data Preparation\n",
        "from data_preprocessor import DataPreprocessor\n",
        "preprocessor = DataPreprocessor(img_data, labels)\n",
        "train_images, val_images, train_labels, val_labels = preprocessor.preprocess_data()\n"
      ]
    },
    {
      "cell_type": "code",
      "execution_count": 6,
      "metadata": {
        "colab": {
          "base_uri": "https://localhost:8080/"
        },
        "id": "Obil3sq9lgO8",
        "outputId": "98365574-dd46-42f4-ae14-f9bfbabc97db"
      },
      "outputs": [
        {
          "output_type": "stream",
          "name": "stdout",
          "text": [
            "Epoch 1/30\n",
            "400/400 [==============================] - 38s 61ms/step - loss: 3.8475 - accuracy: 0.1080 - val_loss: 9.3791 - val_accuracy: 0.0059\n",
            "Epoch 2/30\n",
            "400/400 [==============================] - 22s 54ms/step - loss: 2.2665 - accuracy: 0.3089 - val_loss: 2.0228 - val_accuracy: 0.3384\n",
            "Epoch 3/30\n",
            "400/400 [==============================] - 24s 60ms/step - loss: 1.7265 - accuracy: 0.4268 - val_loss: 1.1837 - val_accuracy: 0.6047\n",
            "Epoch 4/30\n",
            "400/400 [==============================] - 21s 53ms/step - loss: 1.4372 - accuracy: 0.5144 - val_loss: 0.8727 - val_accuracy: 0.7266\n",
            "Epoch 5/30\n",
            "400/400 [==============================] - 23s 59ms/step - loss: 1.2520 - accuracy: 0.5698 - val_loss: 0.6900 - val_accuracy: 0.7969\n",
            "Epoch 6/30\n",
            "400/400 [==============================] - 24s 61ms/step - loss: 1.0932 - accuracy: 0.6295 - val_loss: 0.6277 - val_accuracy: 0.8372\n",
            "Epoch 7/30\n",
            "400/400 [==============================] - 24s 60ms/step - loss: 1.0032 - accuracy: 0.6519 - val_loss: 0.4228 - val_accuracy: 0.8791\n",
            "Epoch 8/30\n",
            "400/400 [==============================] - 22s 54ms/step - loss: 0.8995 - accuracy: 0.6890 - val_loss: 1.1346 - val_accuracy: 0.6328\n",
            "Epoch 9/30\n",
            "400/400 [==============================] - 23s 56ms/step - loss: 0.8289 - accuracy: 0.7169 - val_loss: 0.3305 - val_accuracy: 0.9066\n",
            "Epoch 10/30\n",
            "400/400 [==============================] - 22s 56ms/step - loss: 0.7357 - accuracy: 0.7492 - val_loss: 0.3395 - val_accuracy: 0.9087\n",
            "Epoch 11/30\n",
            "400/400 [==============================] - 23s 58ms/step - loss: 0.6964 - accuracy: 0.7619 - val_loss: 0.2970 - val_accuracy: 0.9347\n",
            "Epoch 12/30\n",
            "400/400 [==============================] - 24s 59ms/step - loss: 0.6521 - accuracy: 0.7781 - val_loss: 0.2231 - val_accuracy: 0.9419\n",
            "Epoch 13/30\n",
            "400/400 [==============================] - 21s 53ms/step - loss: 0.6155 - accuracy: 0.7880 - val_loss: 0.1986 - val_accuracy: 0.9525\n",
            "Epoch 14/30\n",
            "400/400 [==============================] - 23s 57ms/step - loss: 0.5669 - accuracy: 0.8087 - val_loss: 0.2094 - val_accuracy: 0.9475\n",
            "Epoch 15/30\n",
            "400/400 [==============================] - 21s 53ms/step - loss: 0.5432 - accuracy: 0.8174 - val_loss: 0.1262 - val_accuracy: 0.9691\n",
            "Epoch 16/30\n",
            "400/400 [==============================] - 23s 58ms/step - loss: 0.4939 - accuracy: 0.8316 - val_loss: 0.1311 - val_accuracy: 0.9753\n",
            "Epoch 17/30\n",
            "400/400 [==============================] - 24s 59ms/step - loss: 0.4850 - accuracy: 0.8346 - val_loss: 0.1339 - val_accuracy: 0.9741\n",
            "Epoch 18/30\n",
            "400/400 [==============================] - 21s 53ms/step - loss: 0.4670 - accuracy: 0.8420 - val_loss: 0.1235 - val_accuracy: 0.9741\n",
            "Epoch 19/30\n",
            "400/400 [==============================] - 23s 58ms/step - loss: 0.4375 - accuracy: 0.8530 - val_loss: 0.0912 - val_accuracy: 0.9844\n",
            "Epoch 20/30\n",
            "400/400 [==============================] - 22s 55ms/step - loss: 0.4192 - accuracy: 0.8613 - val_loss: 0.1398 - val_accuracy: 0.9678\n",
            "Epoch 21/30\n",
            "400/400 [==============================] - 24s 59ms/step - loss: 0.4038 - accuracy: 0.8635 - val_loss: 0.3093 - val_accuracy: 0.9013\n",
            "Epoch 22/30\n",
            "400/400 [==============================] - 21s 53ms/step - loss: 0.3868 - accuracy: 0.8687 - val_loss: 0.0819 - val_accuracy: 0.9822\n",
            "Epoch 23/30\n",
            "400/400 [==============================] - 24s 59ms/step - loss: 0.3929 - accuracy: 0.8650 - val_loss: 0.0528 - val_accuracy: 0.9922\n",
            "Epoch 24/30\n",
            "400/400 [==============================] - 21s 54ms/step - loss: 0.3566 - accuracy: 0.8787 - val_loss: 0.1041 - val_accuracy: 0.9753\n",
            "Epoch 25/30\n",
            "400/400 [==============================] - 24s 59ms/step - loss: 0.3517 - accuracy: 0.8780 - val_loss: 0.0604 - val_accuracy: 0.9900\n",
            "Epoch 26/30\n",
            "400/400 [==============================] - 23s 57ms/step - loss: 0.3633 - accuracy: 0.8754 - val_loss: 0.1100 - val_accuracy: 0.9719\n",
            "Epoch 27/30\n",
            "400/400 [==============================] - 22s 54ms/step - loss: 0.3339 - accuracy: 0.8878 - val_loss: 0.0575 - val_accuracy: 0.9859\n",
            "Epoch 28/30\n",
            "400/400 [==============================] - 21s 53ms/step - loss: 0.3343 - accuracy: 0.8858 - val_loss: 0.0619 - val_accuracy: 0.9897\n",
            "Epoch 29/30\n",
            "400/400 [==============================] - 23s 57ms/step - loss: 0.3169 - accuracy: 0.8934 - val_loss: 0.0628 - val_accuracy: 0.9891\n",
            "Epoch 30/30\n",
            "400/400 [==============================] - 24s 60ms/step - loss: 0.3086 - accuracy: 0.8938 - val_loss: 0.0479 - val_accuracy: 0.9909\n"
          ]
        }
      ],
      "source": [
        "# Model Training\n",
        "from speaker_agent import SpeakerAgent\n",
        "agent = SpeakerAgent(train_images, train_labels, val_images, val_labels)\n",
        "model = agent.create_model()\n"
      ]
    },
    {
      "cell_type": "code",
      "source": [
        "# Define the path to save the model\n",
        "from tensorflow.keras.models import load_model\n",
        "model_path = 'speaker_agent.h5'\n",
        "\n",
        "model.save(model_path)\n",
        "loaded_model = load_model(model_path)"
      ],
      "metadata": {
        "id": "VVB7kidglZJG"
      },
      "execution_count": 7,
      "outputs": []
    },
    {
      "cell_type": "markdown",
      "source": [
        "# Game Round 1"
      ],
      "metadata": {
        "id": "5iw524vdV8h0"
      }
    },
    {
      "cell_type": "code",
      "source": [
        "# Usage\n",
        "from sklearn.preprocessing import LabelEncoder\n",
        "from game_environment_speaker import GameEnvironmentSpeaker\n",
        "import numpy as np\n",
        "import pandas as pd\n",
        "# Load the Excel file into a pandas DataFrame\n",
        "data = pd.read_csv(\"/content/New_labels.csv\")\n",
        "\n",
        "# Extract the filenames and labels into separate arrays\n",
        "filenames = data['Filenames'].values\n",
        "shapes = data['labels'].values\n",
        "shapes = np.array(shapes)\n",
        "label_encoder = LabelEncoder()\n",
        "labels = label_encoder.fit_transform(shapes)\n",
        "file_path = \"/content/test_image.xlsx\"\n",
        "test_img_dir = \"/content/test/\"\n",
        "\n",
        "\n",
        "game_env_speaker = GameEnvironmentSpeaker(file_path, test_img_dir, loaded_model, label_encoder)\n",
        "test_img, target_label, true_labels = game_env_speaker.preprocess_data()\n",
        "predicted_labels, speaker_reward, sin_plu_distinct_reward = game_env_speaker.play_game(test_img, target_label)\n"
      ],
      "metadata": {
        "colab": {
          "base_uri": "https://localhost:8080/"
        },
        "id": "ftr2Xig9FzAb",
        "outputId": "5d967666-3548-4c90-f47c-08f02adc0388"
      },
      "execution_count": 9,
      "outputs": [
        {
          "output_type": "stream",
          "name": "stdout",
          "text": [
            "1/1 [==============================] - 0s 382ms/step\n",
            "1/1 [==============================] - 0s 30ms/step\n",
            "1/1 [==============================] - 0s 31ms/step\n",
            "1/1 [==============================] - 0s 37ms/step\n",
            "1/1 [==============================] - 0s 37ms/step\n",
            "1/1 [==============================] - 0s 39ms/step\n",
            "1/1 [==============================] - 0s 27ms/step\n",
            "1/1 [==============================] - 0s 26ms/step\n",
            "1/1 [==============================] - 0s 26ms/step\n",
            "1/1 [==============================] - 0s 26ms/step\n",
            "1/1 [==============================] - 0s 27ms/step\n",
            "1/1 [==============================] - 0s 27ms/step\n",
            "1/1 [==============================] - 0s 27ms/step\n",
            "1/1 [==============================] - 0s 27ms/step\n",
            "1/1 [==============================] - 0s 37ms/step\n",
            "1/1 [==============================] - 0s 27ms/step\n",
            "1/1 [==============================] - 0s 32ms/step\n",
            "1/1 [==============================] - 0s 27ms/step\n",
            "1/1 [==============================] - 0s 27ms/step\n",
            "1/1 [==============================] - 0s 27ms/step\n",
            "1/1 [==============================] - 0s 27ms/step\n",
            "1/1 [==============================] - 0s 26ms/step\n",
            "1/1 [==============================] - 0s 28ms/step\n",
            "1/1 [==============================] - 0s 27ms/step\n",
            "1/1 [==============================] - 0s 28ms/step\n",
            "1/1 [==============================] - 0s 33ms/step\n",
            "1/1 [==============================] - 0s 28ms/step\n",
            "1/1 [==============================] - 0s 29ms/step\n",
            "1/1 [==============================] - 0s 42ms/step\n",
            "1/1 [==============================] - 0s 28ms/step\n",
            "1/1 [==============================] - 0s 27ms/step\n",
            "1/1 [==============================] - 0s 27ms/step\n",
            "1/1 [==============================] - 0s 23ms/step\n",
            "1/1 [==============================] - 0s 19ms/step\n",
            "1/1 [==============================] - 0s 21ms/step\n",
            "1/1 [==============================] - 0s 18ms/step\n",
            "1/1 [==============================] - 0s 19ms/step\n",
            "1/1 [==============================] - 0s 18ms/step\n",
            "1/1 [==============================] - 0s 19ms/step\n",
            "1/1 [==============================] - 0s 21ms/step\n",
            "1/1 [==============================] - 0s 25ms/step\n",
            "1/1 [==============================] - 0s 19ms/step\n",
            "1/1 [==============================] - 0s 20ms/step\n",
            "1/1 [==============================] - 0s 18ms/step\n",
            "1/1 [==============================] - 0s 19ms/step\n",
            "1/1 [==============================] - 0s 20ms/step\n",
            "1/1 [==============================] - 0s 21ms/step\n",
            "1/1 [==============================] - 0s 21ms/step\n",
            "1/1 [==============================] - 0s 21ms/step\n",
            "1/1 [==============================] - 0s 18ms/step\n",
            "1/1 [==============================] - 0s 19ms/step\n",
            "1/1 [==============================] - 0s 21ms/step\n",
            "1/1 [==============================] - 0s 18ms/step\n",
            "1/1 [==============================] - 0s 18ms/step\n",
            "1/1 [==============================] - 0s 18ms/step\n",
            "1/1 [==============================] - 0s 17ms/step\n",
            "1/1 [==============================] - 0s 17ms/step\n",
            "1/1 [==============================] - 0s 19ms/step\n",
            "1/1 [==============================] - 0s 18ms/step\n",
            "1/1 [==============================] - 0s 18ms/step\n",
            "1/1 [==============================] - 0s 19ms/step\n",
            "1/1 [==============================] - 0s 18ms/step\n",
            "1/1 [==============================] - 0s 19ms/step\n",
            "1/1 [==============================] - 0s 19ms/step\n",
            "1/1 [==============================] - 0s 22ms/step\n",
            "1/1 [==============================] - 0s 18ms/step\n",
            "1/1 [==============================] - 0s 17ms/step\n",
            "1/1 [==============================] - 0s 18ms/step\n",
            "1/1 [==============================] - 0s 20ms/step\n",
            "1/1 [==============================] - 0s 19ms/step\n",
            "1/1 [==============================] - 0s 21ms/step\n",
            "1/1 [==============================] - 0s 21ms/step\n",
            "1/1 [==============================] - 0s 21ms/step\n",
            "1/1 [==============================] - 0s 19ms/step\n",
            "1/1 [==============================] - 0s 21ms/step\n",
            "1/1 [==============================] - 0s 28ms/step\n",
            "1/1 [==============================] - 0s 18ms/step\n",
            "1/1 [==============================] - 0s 21ms/step\n",
            "1/1 [==============================] - 0s 21ms/step\n",
            "1/1 [==============================] - 0s 18ms/step\n"
          ]
        }
      ]
    },
    {
      "cell_type": "code",
      "source": [
        "from listener_agent import ListenerAgent\n",
        "\n",
        "file_path = \"/content/test_image.xlsx\"\n",
        "test_data = pd.read_excel(file_path)\n",
        "test_img = test_data['Filepath']\n",
        "target_label = test_data['shapes']\n",
        "test_img_dir = \"/content/test/\"\n",
        "\n"
      ],
      "metadata": {
        "id": "BWBiEq8bMako"
      },
      "execution_count": 10,
      "outputs": []
    },
    {
      "cell_type": "code",
      "source": [
        "\n",
        "from game_env_listener import GameEnvironmentListener\n",
        "# Create an instance of the GameEnvironmentListener class\n",
        "game_env_listener = GameEnvironmentListener(data_path='/content/data/data/', filenames=filenames, shapes=shapes)\n",
        "\n",
        "# Call the play_game method\n",
        "test_img_dir = \"/content/test/\"\n",
        "test_img = test_data['Filepath']\n",
        "predicted_labels = predicted_labels\n",
        "\n",
        "matched_images, predicted_labels_listener, listener_reward = game_env_listener.play_game(test_img_dir, test_img, predicted_labels)\n",
        "\n"
      ],
      "metadata": {
        "id": "wqtEjiyWP1j5"
      },
      "execution_count": 11,
      "outputs": []
    },
    {
      "cell_type": "markdown",
      "source": [
        "# Round 1 reward Accuracy"
      ],
      "metadata": {
        "id": "tnHzJkjyYN-8"
      }
    },
    {
      "cell_type": "code",
      "source": [
        "speaker_reward_percentage = speaker_reward/len(test_img)\n",
        "listener_reward_percentage = listener_reward/len(test_img)\n",
        "sin_plu_distinct_reward_percentage = sin_plu_distinct_reward/len(test_img)\n",
        "print(speaker_reward_percentage)\n",
        "print(listener_reward_percentage)\n",
        "print(sin_plu_distinct_reward_percentage)"
      ],
      "metadata": {
        "colab": {
          "base_uri": "https://localhost:8080/"
        },
        "id": "mqXM9jM-X0we",
        "outputId": "5e1b0f78-23ad-4e69-adf9-80bab6a8db90"
      },
      "execution_count": 14,
      "outputs": [
        {
          "output_type": "stream",
          "name": "stdout",
          "text": [
            "0.125\n",
            "1.0\n",
            "0.95\n"
          ]
        }
      ]
    },
    {
      "cell_type": "markdown",
      "source": [
        "# Game round 2"
      ],
      "metadata": {
        "id": "LE5i-a3tVvIM"
      }
    },
    {
      "cell_type": "code",
      "source": [
        "from policy_updater import ModelUpdater\n",
        "import tensorflow as tf\n",
        "\n",
        "# Create an instance of the ModelUpdater class\n",
        "model_updater = ModelUpdater(weights_path='speaker_agent.h5')\n",
        "\n",
        "# Call the update_model method\n",
        "model, lr = model_updater.update_model(loaded_model, speaker_reward_percentage, train_images, train_labels, val_images, val_labels, max_epochs=30)\n",
        "\n",
        "# Save the updated model\n",
        "model_path = 'speaker_agent_updated_1.h5'\n",
        "model.save(model_path)\n",
        "\n",
        "# Load the updated model\n",
        "loaded_model = tf.keras.models.load_model(model_path)\n"
      ],
      "metadata": {
        "colab": {
          "base_uri": "https://localhost:8080/"
        },
        "id": "-byDOx5CWvgf",
        "outputId": "7bda5b2d-9bb7-4834-cfec-fd72b416ab6c"
      },
      "execution_count": 13,
      "outputs": [
        {
          "output_type": "stream",
          "name": "stdout",
          "text": [
            "Epoch 1/30\n",
            "400/400 [==============================] - 28s 60ms/step - loss: 0.2642 - accuracy: 0.9128 - val_loss: 0.0354 - val_accuracy: 0.9928\n",
            "Epoch 2/30\n",
            "400/400 [==============================] - 24s 59ms/step - loss: 0.2517 - accuracy: 0.9152 - val_loss: 0.0374 - val_accuracy: 0.9947\n",
            "Epoch 3/30\n",
            "400/400 [==============================] - 22s 55ms/step - loss: 0.2228 - accuracy: 0.9263 - val_loss: 0.0449 - val_accuracy: 0.9916\n",
            "Epoch 4/30\n",
            "400/400 [==============================] - 23s 57ms/step - loss: 0.2125 - accuracy: 0.9297 - val_loss: 0.0599 - val_accuracy: 0.9887\n",
            "Epoch 5/30\n",
            "400/400 [==============================] - 22s 55ms/step - loss: 0.2032 - accuracy: 0.9356 - val_loss: 0.1400 - val_accuracy: 0.9603\n",
            "Epoch 6/30\n",
            "400/400 [==============================] - 24s 59ms/step - loss: 0.2001 - accuracy: 0.9341 - val_loss: 0.0395 - val_accuracy: 0.9934\n",
            "Epoch 7/30\n",
            "400/400 [==============================] - 21s 53ms/step - loss: 0.1986 - accuracy: 0.9333 - val_loss: 0.0343 - val_accuracy: 0.9944\n",
            "Epoch 8/30\n",
            "400/400 [==============================] - 23s 56ms/step - loss: 0.1966 - accuracy: 0.9362 - val_loss: 0.0413 - val_accuracy: 0.9916\n",
            "Epoch 9/30\n",
            "400/400 [==============================] - 22s 54ms/step - loss: 0.1837 - accuracy: 0.9408 - val_loss: 0.0478 - val_accuracy: 0.9906\n",
            "Epoch 10/30\n",
            "400/400 [==============================] - 23s 57ms/step - loss: 0.1807 - accuracy: 0.9406 - val_loss: 0.0320 - val_accuracy: 0.9941\n",
            "Epoch 11/30\n",
            "400/400 [==============================] - 23s 58ms/step - loss: 0.1738 - accuracy: 0.9428 - val_loss: 0.0327 - val_accuracy: 0.9953\n",
            "Epoch 12/30\n",
            "400/400 [==============================] - 23s 57ms/step - loss: 0.1730 - accuracy: 0.9414 - val_loss: 0.0291 - val_accuracy: 0.9956\n",
            "Epoch 13/30\n",
            "400/400 [==============================] - 21s 53ms/step - loss: 0.1706 - accuracy: 0.9423 - val_loss: 0.0325 - val_accuracy: 0.9937\n",
            "Epoch 14/30\n",
            "400/400 [==============================] - 23s 56ms/step - loss: 0.1651 - accuracy: 0.9445 - val_loss: 0.0348 - val_accuracy: 0.9937\n",
            "Epoch 15/30\n",
            "400/400 [==============================] - 22s 54ms/step - loss: 0.1742 - accuracy: 0.9412 - val_loss: 0.0366 - val_accuracy: 0.9934\n",
            "Epoch 16/30\n",
            "400/400 [==============================] - 22s 54ms/step - loss: 0.1761 - accuracy: 0.9387 - val_loss: 0.0283 - val_accuracy: 0.9956\n",
            "Epoch 17/30\n",
            "400/400 [==============================] - 24s 60ms/step - loss: 0.1635 - accuracy: 0.9459 - val_loss: 0.0297 - val_accuracy: 0.9956\n",
            "Epoch 18/30\n",
            "400/400 [==============================] - 24s 61ms/step - loss: 0.1622 - accuracy: 0.9476 - val_loss: 0.1968 - val_accuracy: 0.9366\n",
            "Epoch 19/30\n",
            "400/400 [==============================] - 22s 56ms/step - loss: 0.1604 - accuracy: 0.9475 - val_loss: 0.4122 - val_accuracy: 0.8744\n",
            "Epoch 20/30\n",
            "400/400 [==============================] - 27s 67ms/step - loss: 0.1589 - accuracy: 0.9488 - val_loss: 0.0303 - val_accuracy: 0.9953\n",
            "Epoch 21/30\n",
            "400/400 [==============================] - 28s 70ms/step - loss: 0.1510 - accuracy: 0.9508 - val_loss: 0.0294 - val_accuracy: 0.9950\n",
            "Epoch 22/30\n",
            "400/400 [==============================] - 25s 61ms/step - loss: 0.1557 - accuracy: 0.9478 - val_loss: 0.0522 - val_accuracy: 0.9903\n",
            "Epoch 23/30\n",
            "400/400 [==============================] - 24s 59ms/step - loss: 0.1457 - accuracy: 0.9524 - val_loss: 0.0382 - val_accuracy: 0.9928\n",
            "Epoch 24/30\n",
            "400/400 [==============================] - 23s 58ms/step - loss: 0.1424 - accuracy: 0.9522 - val_loss: 0.6097 - val_accuracy: 0.8219\n",
            "Epoch 25/30\n",
            "400/400 [==============================] - 22s 55ms/step - loss: 0.1579 - accuracy: 0.9479 - val_loss: 0.0372 - val_accuracy: 0.9947\n",
            "Epoch 26/30\n",
            "400/400 [==============================] - 23s 57ms/step - loss: 0.1522 - accuracy: 0.9498 - val_loss: 0.0307 - val_accuracy: 0.9959\n",
            "Epoch 27/30\n",
            "400/400 [==============================] - 23s 58ms/step - loss: 0.1467 - accuracy: 0.9527 - val_loss: 0.0341 - val_accuracy: 0.9947\n",
            "Epoch 28/30\n",
            "400/400 [==============================] - 22s 54ms/step - loss: 0.1501 - accuracy: 0.9507 - val_loss: 0.0316 - val_accuracy: 0.9953\n",
            "Epoch 29/30\n",
            "400/400 [==============================] - 24s 59ms/step - loss: 0.1367 - accuracy: 0.9571 - val_loss: 0.0464 - val_accuracy: 0.9925\n",
            "Epoch 30/30\n",
            "400/400 [==============================] - 22s 54ms/step - loss: 0.1344 - accuracy: 0.9541 - val_loss: 0.0480 - val_accuracy: 0.9922\n"
          ]
        }
      ]
    },
    {
      "cell_type": "code",
      "source": [
        "game_env_speaker = GameEnvironmentSpeaker(file_path, test_img_dir, loaded_model, label_encoder)\n",
        "test_img, target_label, true_labels = game_env_speaker.preprocess_data()\n",
        "predicted_labels, speaker_reward, sin_plu_distinct_reward = game_env_speaker.play_game(test_img, target_label)\n"
      ],
      "metadata": {
        "id": "yBbo6A6PX7aU",
        "colab": {
          "base_uri": "https://localhost:8080/"
        },
        "outputId": "c53c4416-59d2-4818-fc87-43006aba3c4e"
      },
      "execution_count": 15,
      "outputs": [
        {
          "output_type": "stream",
          "name": "stdout",
          "text": [
            "1/1 [==============================] - 0s 138ms/step\n",
            "1/1 [==============================] - 0s 19ms/step\n",
            "1/1 [==============================] - 0s 19ms/step\n",
            "1/1 [==============================] - 0s 20ms/step\n",
            "1/1 [==============================] - 0s 19ms/step\n",
            "1/1 [==============================] - 0s 17ms/step\n",
            "1/1 [==============================] - 0s 18ms/step\n",
            "1/1 [==============================] - 0s 19ms/step\n",
            "1/1 [==============================] - 0s 18ms/step\n",
            "1/1 [==============================] - 0s 20ms/step\n",
            "1/1 [==============================] - 0s 19ms/step\n",
            "1/1 [==============================] - 0s 23ms/step\n",
            "1/1 [==============================] - 0s 31ms/step\n",
            "1/1 [==============================] - 0s 19ms/step\n",
            "1/1 [==============================] - 0s 20ms/step\n",
            "1/1 [==============================] - 0s 18ms/step\n",
            "1/1 [==============================] - 0s 19ms/step\n",
            "1/1 [==============================] - 0s 18ms/step\n",
            "1/1 [==============================] - 0s 20ms/step\n",
            "1/1 [==============================] - 0s 20ms/step\n",
            "1/1 [==============================] - 0s 21ms/step\n",
            "1/1 [==============================] - 0s 19ms/step\n",
            "1/1 [==============================] - 0s 19ms/step\n",
            "1/1 [==============================] - 0s 18ms/step\n",
            "1/1 [==============================] - 0s 18ms/step\n",
            "1/1 [==============================] - 0s 18ms/step\n",
            "1/1 [==============================] - 0s 18ms/step\n",
            "1/1 [==============================] - 0s 18ms/step\n",
            "1/1 [==============================] - 0s 19ms/step\n",
            "1/1 [==============================] - 0s 20ms/step\n",
            "1/1 [==============================] - 0s 20ms/step\n",
            "1/1 [==============================] - 0s 19ms/step\n",
            "1/1 [==============================] - 0s 18ms/step\n",
            "1/1 [==============================] - 0s 20ms/step\n",
            "1/1 [==============================] - 0s 21ms/step\n",
            "1/1 [==============================] - 0s 19ms/step\n",
            "1/1 [==============================] - 0s 18ms/step\n",
            "1/1 [==============================] - 0s 20ms/step\n",
            "1/1 [==============================] - 0s 20ms/step\n",
            "1/1 [==============================] - 0s 18ms/step\n",
            "1/1 [==============================] - 0s 19ms/step\n",
            "1/1 [==============================] - 0s 20ms/step\n",
            "1/1 [==============================] - 0s 19ms/step\n",
            "1/1 [==============================] - 0s 18ms/step\n",
            "1/1 [==============================] - 0s 21ms/step\n",
            "1/1 [==============================] - 0s 20ms/step\n",
            "1/1 [==============================] - 0s 20ms/step\n",
            "1/1 [==============================] - 0s 22ms/step\n",
            "1/1 [==============================] - 0s 19ms/step\n",
            "1/1 [==============================] - 0s 19ms/step\n",
            "1/1 [==============================] - 0s 20ms/step\n",
            "1/1 [==============================] - 0s 18ms/step\n",
            "1/1 [==============================] - 0s 18ms/step\n",
            "1/1 [==============================] - 0s 23ms/step\n",
            "1/1 [==============================] - 0s 21ms/step\n",
            "1/1 [==============================] - 0s 19ms/step\n",
            "1/1 [==============================] - 0s 20ms/step\n",
            "1/1 [==============================] - 0s 21ms/step\n",
            "1/1 [==============================] - 0s 20ms/step\n",
            "1/1 [==============================] - 0s 20ms/step\n",
            "1/1 [==============================] - 0s 20ms/step\n",
            "1/1 [==============================] - 0s 21ms/step\n",
            "1/1 [==============================] - 0s 20ms/step\n",
            "1/1 [==============================] - 0s 20ms/step\n",
            "1/1 [==============================] - 0s 19ms/step\n",
            "1/1 [==============================] - 0s 20ms/step\n",
            "1/1 [==============================] - 0s 21ms/step\n",
            "1/1 [==============================] - 0s 21ms/step\n",
            "1/1 [==============================] - 0s 20ms/step\n",
            "1/1 [==============================] - 0s 19ms/step\n",
            "1/1 [==============================] - 0s 23ms/step\n",
            "1/1 [==============================] - 0s 18ms/step\n",
            "1/1 [==============================] - 0s 20ms/step\n",
            "1/1 [==============================] - 0s 20ms/step\n",
            "1/1 [==============================] - 0s 19ms/step\n",
            "1/1 [==============================] - 0s 20ms/step\n",
            "1/1 [==============================] - 0s 20ms/step\n",
            "1/1 [==============================] - 0s 18ms/step\n",
            "1/1 [==============================] - 0s 20ms/step\n",
            "1/1 [==============================] - 0s 20ms/step\n"
          ]
        }
      ]
    },
    {
      "cell_type": "code",
      "source": [
        "\n",
        "# Create an instance of the GameEnvironmentListener class\n",
        "game_env_listener = GameEnvironmentListener(data_path='/content/data/data/', filenames=filenames, shapes=shapes)\n",
        "matched_images, predicted_labels_listener, listener_reward = game_env_listener.play_game(test_img_dir, test_img, predicted_labels)\n",
        "\n"
      ],
      "metadata": {
        "id": "5c37e6iHYADp"
      },
      "execution_count": 17,
      "outputs": []
    },
    {
      "cell_type": "code",
      "source": [
        "speaker_reward_percentage = speaker_reward/len(test_img)\n",
        "listener_reward_percentage = listener_reward/len(test_img)\n",
        "sin_plu_distinct_reward_percentage = sin_plu_distinct_reward/len(test_img)\n",
        "print(speaker_reward_percentage)\n",
        "print(listener_reward_percentage)\n",
        "print(sin_plu_distinct_reward_percentage)"
      ],
      "metadata": {
        "colab": {
          "base_uri": "https://localhost:8080/"
        },
        "id": "oQEHGilCYJJG",
        "outputId": "b6b18efd-2046-4c4e-a1c4-7ac5b5689772"
      },
      "execution_count": 18,
      "outputs": [
        {
          "output_type": "stream",
          "name": "stdout",
          "text": [
            "0.1\n",
            "1.0\n",
            "0.9125\n"
          ]
        }
      ]
    },
    {
      "cell_type": "markdown",
      "source": [
        "# Game Round 3"
      ],
      "metadata": {
        "id": "0pPMG-SUaUiN"
      }
    },
    {
      "cell_type": "code",
      "source": [
        "# Create an instance of the ModelUpdater class\n",
        "model_updater = ModelUpdater(weights_path='speaker_agent_updated_1.h5')\n",
        "\n",
        "# Call the update_model method\n",
        "model, lr = model_updater.update_model(loaded_model, speaker_reward_percentage, train_images, train_labels, val_images, val_labels, max_epochs=30)\n",
        "\n",
        "# Save the updated model\n",
        "model_path = 'speaker_agent_updated_2.h5'\n",
        "model.save(model_path)\n",
        "\n",
        "# Load the updated model\n",
        "loaded_model = tf.keras.models.load_model(model_path)\n"
      ],
      "metadata": {
        "colab": {
          "base_uri": "https://localhost:8080/"
        },
        "id": "J0V7qSNbaQIM",
        "outputId": "68c19d8e-f724-4376-ea4e-1bc9c4ba35b8"
      },
      "execution_count": 19,
      "outputs": [
        {
          "output_type": "stream",
          "name": "stdout",
          "text": [
            "Epoch 1/30\n",
            "400/400 [==============================] - 27s 55ms/step - loss: 0.1341 - accuracy: 0.9546 - val_loss: 0.0297 - val_accuracy: 0.9962\n",
            "Epoch 2/30\n",
            "400/400 [==============================] - 23s 59ms/step - loss: 0.1222 - accuracy: 0.9597 - val_loss: 0.0626 - val_accuracy: 0.9847\n",
            "Epoch 3/30\n",
            "400/400 [==============================] - 24s 59ms/step - loss: 0.1299 - accuracy: 0.9580 - val_loss: 0.0506 - val_accuracy: 0.9894\n",
            "Epoch 4/30\n",
            "400/400 [==============================] - 24s 60ms/step - loss: 0.1302 - accuracy: 0.9559 - val_loss: 0.0351 - val_accuracy: 0.9947\n",
            "Epoch 5/30\n",
            "400/400 [==============================] - 22s 55ms/step - loss: 0.1396 - accuracy: 0.9530 - val_loss: 0.0392 - val_accuracy: 0.9931\n",
            "Epoch 6/30\n",
            "400/400 [==============================] - 24s 61ms/step - loss: 0.1247 - accuracy: 0.9592 - val_loss: 0.0525 - val_accuracy: 0.9891\n",
            "Epoch 7/30\n",
            "400/400 [==============================] - 24s 61ms/step - loss: 0.1280 - accuracy: 0.9578 - val_loss: 0.0360 - val_accuracy: 0.9944\n",
            "Epoch 8/30\n",
            "400/400 [==============================] - 25s 62ms/step - loss: 0.1276 - accuracy: 0.9583 - val_loss: 0.0487 - val_accuracy: 0.9887\n",
            "Epoch 9/30\n",
            "400/400 [==============================] - 23s 57ms/step - loss: 0.1179 - accuracy: 0.9627 - val_loss: 0.0297 - val_accuracy: 0.9944\n",
            "Epoch 10/30\n",
            "400/400 [==============================] - 23s 56ms/step - loss: 0.1209 - accuracy: 0.9598 - val_loss: 0.0292 - val_accuracy: 0.9962\n",
            "Epoch 11/30\n",
            "400/400 [==============================] - 23s 57ms/step - loss: 0.1257 - accuracy: 0.9595 - val_loss: 0.0314 - val_accuracy: 0.9947\n",
            "Epoch 12/30\n",
            "400/400 [==============================] - 21s 53ms/step - loss: 0.1207 - accuracy: 0.9601 - val_loss: 0.0255 - val_accuracy: 0.9959\n",
            "Epoch 13/30\n",
            "400/400 [==============================] - 23s 58ms/step - loss: 0.1270 - accuracy: 0.9584 - val_loss: 0.0393 - val_accuracy: 0.9928\n",
            "Epoch 14/30\n",
            "400/400 [==============================] - 23s 57ms/step - loss: 0.1228 - accuracy: 0.9578 - val_loss: 0.0544 - val_accuracy: 0.9875\n",
            "Epoch 15/30\n",
            "400/400 [==============================] - 22s 55ms/step - loss: 0.1179 - accuracy: 0.9620 - val_loss: 0.0304 - val_accuracy: 0.9956\n",
            "Epoch 16/30\n",
            "400/400 [==============================] - 23s 57ms/step - loss: 0.1027 - accuracy: 0.9673 - val_loss: 0.0342 - val_accuracy: 0.9944\n",
            "Epoch 17/30\n",
            "400/400 [==============================] - 24s 59ms/step - loss: 0.1178 - accuracy: 0.9616 - val_loss: 0.0318 - val_accuracy: 0.9944\n",
            "Epoch 18/30\n",
            "400/400 [==============================] - 22s 54ms/step - loss: 0.1234 - accuracy: 0.9602 - val_loss: 0.0366 - val_accuracy: 0.9944\n",
            "Epoch 19/30\n",
            "400/400 [==============================] - 22s 55ms/step - loss: 0.1201 - accuracy: 0.9604 - val_loss: 0.0447 - val_accuracy: 0.9894\n",
            "Epoch 20/30\n",
            "400/400 [==============================] - 23s 58ms/step - loss: 0.1065 - accuracy: 0.9657 - val_loss: 0.0324 - val_accuracy: 0.9956\n",
            "Epoch 21/30\n",
            "400/400 [==============================] - 22s 54ms/step - loss: 0.1048 - accuracy: 0.9666 - val_loss: 0.0797 - val_accuracy: 0.9797\n",
            "Epoch 22/30\n",
            "400/400 [==============================] - 23s 57ms/step - loss: 0.1027 - accuracy: 0.9681 - val_loss: 0.0275 - val_accuracy: 0.9956\n",
            "Epoch 23/30\n",
            "400/400 [==============================] - 22s 54ms/step - loss: 0.1117 - accuracy: 0.9611 - val_loss: 0.0314 - val_accuracy: 0.9959\n",
            "Epoch 24/30\n",
            "400/400 [==============================] - 22s 55ms/step - loss: 0.1059 - accuracy: 0.9637 - val_loss: 0.0296 - val_accuracy: 0.9959\n",
            "Epoch 25/30\n",
            "400/400 [==============================] - 22s 55ms/step - loss: 0.1202 - accuracy: 0.9602 - val_loss: 0.0931 - val_accuracy: 0.9778\n",
            "Epoch 26/30\n",
            "400/400 [==============================] - 23s 58ms/step - loss: 0.1065 - accuracy: 0.9660 - val_loss: 0.0336 - val_accuracy: 0.9944\n",
            "Epoch 27/30\n",
            "400/400 [==============================] - 21s 53ms/step - loss: 0.1072 - accuracy: 0.9652 - val_loss: 0.0358 - val_accuracy: 0.9941\n",
            "Epoch 28/30\n",
            "400/400 [==============================] - 23s 57ms/step - loss: 0.1020 - accuracy: 0.9657 - val_loss: 0.0336 - val_accuracy: 0.9959\n",
            "Epoch 29/30\n",
            "400/400 [==============================] - 23s 58ms/step - loss: 0.1101 - accuracy: 0.9648 - val_loss: 0.0334 - val_accuracy: 0.9944\n",
            "Epoch 30/30\n",
            "400/400 [==============================] - 23s 58ms/step - loss: 0.1008 - accuracy: 0.9668 - val_loss: 0.0362 - val_accuracy: 0.9950\n"
          ]
        }
      ]
    },
    {
      "cell_type": "code",
      "source": [
        "\n",
        "game_env_speaker = GameEnvironmentSpeaker(file_path, test_img_dir, loaded_model, label_encoder)\n",
        "test_img, target_label, true_labels = game_env_speaker.preprocess_data()\n",
        "predicted_labels, speaker_reward, sin_plu_distinct_reward = game_env_speaker.play_game(test_img, target_label)\n"
      ],
      "metadata": {
        "colab": {
          "base_uri": "https://localhost:8080/"
        },
        "id": "0zNv-LYMan2N",
        "outputId": "1a8c03d2-c749-4a22-e3f0-c4598f9aaa50"
      },
      "execution_count": 20,
      "outputs": [
        {
          "output_type": "stream",
          "name": "stdout",
          "text": [
            "1/1 [==============================] - 0s 127ms/step\n",
            "1/1 [==============================] - 0s 21ms/step\n",
            "1/1 [==============================] - 0s 19ms/step\n",
            "1/1 [==============================] - 0s 20ms/step\n",
            "1/1 [==============================] - 0s 20ms/step\n",
            "1/1 [==============================] - 0s 21ms/step\n",
            "1/1 [==============================] - 0s 19ms/step\n",
            "1/1 [==============================] - 0s 20ms/step\n",
            "1/1 [==============================] - 0s 19ms/step\n",
            "1/1 [==============================] - 0s 20ms/step\n",
            "1/1 [==============================] - 0s 20ms/step\n",
            "1/1 [==============================] - 0s 20ms/step\n",
            "1/1 [==============================] - 0s 19ms/step\n",
            "1/1 [==============================] - 0s 18ms/step\n",
            "1/1 [==============================] - 0s 17ms/step\n",
            "1/1 [==============================] - 0s 19ms/step\n",
            "1/1 [==============================] - 0s 19ms/step\n",
            "1/1 [==============================] - 0s 19ms/step\n",
            "1/1 [==============================] - 0s 18ms/step\n",
            "1/1 [==============================] - 0s 17ms/step\n",
            "1/1 [==============================] - 0s 17ms/step\n",
            "1/1 [==============================] - 0s 18ms/step\n",
            "1/1 [==============================] - 0s 18ms/step\n",
            "1/1 [==============================] - 0s 26ms/step\n",
            "1/1 [==============================] - 0s 19ms/step\n",
            "1/1 [==============================] - 0s 20ms/step\n",
            "1/1 [==============================] - 0s 18ms/step\n",
            "1/1 [==============================] - 0s 19ms/step\n",
            "1/1 [==============================] - 0s 19ms/step\n",
            "1/1 [==============================] - 0s 18ms/step\n",
            "1/1 [==============================] - 0s 17ms/step\n",
            "1/1 [==============================] - 0s 17ms/step\n",
            "1/1 [==============================] - 0s 19ms/step\n",
            "1/1 [==============================] - 0s 17ms/step\n",
            "1/1 [==============================] - 0s 21ms/step\n",
            "1/1 [==============================] - 0s 20ms/step\n",
            "1/1 [==============================] - 0s 18ms/step\n",
            "1/1 [==============================] - 0s 19ms/step\n",
            "1/1 [==============================] - 0s 19ms/step\n",
            "1/1 [==============================] - 0s 27ms/step\n",
            "1/1 [==============================] - 0s 29ms/step\n",
            "1/1 [==============================] - 0s 31ms/step\n",
            "1/1 [==============================] - 0s 26ms/step\n",
            "1/1 [==============================] - 0s 35ms/step\n",
            "1/1 [==============================] - 0s 27ms/step\n",
            "1/1 [==============================] - 0s 26ms/step\n",
            "1/1 [==============================] - 0s 26ms/step\n",
            "1/1 [==============================] - 0s 29ms/step\n",
            "1/1 [==============================] - 0s 28ms/step\n",
            "1/1 [==============================] - 0s 30ms/step\n",
            "1/1 [==============================] - 0s 25ms/step\n",
            "1/1 [==============================] - 0s 26ms/step\n",
            "1/1 [==============================] - 0s 30ms/step\n",
            "1/1 [==============================] - 0s 27ms/step\n",
            "1/1 [==============================] - 0s 29ms/step\n",
            "1/1 [==============================] - 0s 27ms/step\n",
            "1/1 [==============================] - 0s 28ms/step\n",
            "1/1 [==============================] - 0s 26ms/step\n",
            "1/1 [==============================] - 0s 26ms/step\n",
            "1/1 [==============================] - 0s 27ms/step\n",
            "1/1 [==============================] - 0s 25ms/step\n",
            "1/1 [==============================] - 0s 27ms/step\n",
            "1/1 [==============================] - 0s 26ms/step\n",
            "1/1 [==============================] - 0s 28ms/step\n",
            "1/1 [==============================] - 0s 26ms/step\n",
            "1/1 [==============================] - 0s 37ms/step\n",
            "1/1 [==============================] - 0s 26ms/step\n",
            "1/1 [==============================] - 0s 47ms/step\n",
            "1/1 [==============================] - 0s 27ms/step\n",
            "1/1 [==============================] - 0s 27ms/step\n",
            "1/1 [==============================] - 0s 29ms/step\n",
            "1/1 [==============================] - 0s 27ms/step\n",
            "1/1 [==============================] - 0s 27ms/step\n",
            "1/1 [==============================] - 0s 26ms/step\n",
            "1/1 [==============================] - 0s 26ms/step\n",
            "1/1 [==============================] - 0s 26ms/step\n",
            "1/1 [==============================] - 0s 26ms/step\n",
            "1/1 [==============================] - 0s 33ms/step\n",
            "1/1 [==============================] - 0s 27ms/step\n",
            "1/1 [==============================] - 0s 28ms/step\n"
          ]
        }
      ]
    },
    {
      "cell_type": "code",
      "source": [
        "\n",
        "# Create an instance of the GameEnvironmentListener class\n",
        "game_env_listener = GameEnvironmentListener(data_path='/content/data/data/', filenames=filenames, shapes=shapes)\n",
        "matched_images, predicted_labels_listener, listener_reward = game_env_listener.play_game(test_img_dir, test_img, predicted_labels)\n",
        "\n"
      ],
      "metadata": {
        "id": "9warqPjFbF2A"
      },
      "execution_count": 21,
      "outputs": []
    },
    {
      "cell_type": "code",
      "source": [
        "speaker_reward_percentage = speaker_reward/len(test_img)\n",
        "listener_reward_percentage = listener_reward/len(test_img)\n",
        "sin_plu_distinct_reward_percentage = sin_plu_distinct_reward/len(test_img)\n",
        "print(speaker_reward_percentage)\n",
        "print(listener_reward_percentage)\n",
        "print(sin_plu_distinct_reward_percentage)"
      ],
      "metadata": {
        "colab": {
          "base_uri": "https://localhost:8080/"
        },
        "id": "eJbZ4Np6bP0U",
        "outputId": "705d3722-41ee-43d2-a127-b820d5326345"
      },
      "execution_count": 22,
      "outputs": [
        {
          "output_type": "stream",
          "name": "stdout",
          "text": [
            "0.1375\n",
            "1.0\n",
            "0.9375\n"
          ]
        }
      ]
    },
    {
      "cell_type": "code",
      "source": [],
      "metadata": {
        "id": "3xNDkoxQePim"
      },
      "execution_count": null,
      "outputs": []
    }
  ],
  "metadata": {
    "accelerator": "GPU",
    "colab": {
      "provenance": []
    },
    "gpuClass": "standard",
    "kernelspec": {
      "display_name": "Python 3",
      "name": "python3"
    },
    "language_info": {
      "name": "python"
    }
  },
  "nbformat": 4,
  "nbformat_minor": 0
}