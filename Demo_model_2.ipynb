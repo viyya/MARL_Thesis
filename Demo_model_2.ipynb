{
  "cells": [
    {
      "cell_type": "code",
      "execution_count": null,
      "metadata": {
        "colab": {
          "base_uri": "https://localhost:8080/"
        },
        "id": "o5IM4OIjYy0r",
        "outputId": "da4f6c18-0618-42e3-c4e9-b9d00143913a"
      },
      "outputs": [
        {
          "output_type": "stream",
          "name": "stdout",
          "text": [
            "Mounted at /content/drive\n",
            "Looking in indexes: https://pypi.org/simple, https://us-python.pkg.dev/colab-wheels/public/simple/\n",
            "Collecting py7zr\n",
            "  Downloading py7zr-0.20.5-py3-none-any.whl (66 kB)\n",
            "\u001b[2K     \u001b[90m━━━━━━━━━━━━━━━━━━━━━━━━━━━━━━━━━━━━━━━━\u001b[0m \u001b[32m66.4/66.4 kB\u001b[0m \u001b[31m4.4 MB/s\u001b[0m eta \u001b[36m0:00:00\u001b[0m\n",
            "\u001b[?25hCollecting texttable (from py7zr)\n",
            "  Downloading texttable-1.6.7-py2.py3-none-any.whl (10 kB)\n",
            "Collecting pycryptodomex>=3.6.6 (from py7zr)\n",
            "  Downloading pycryptodomex-3.17-cp35-abi3-manylinux_2_17_x86_64.manylinux2014_x86_64.whl (2.1 MB)\n",
            "\u001b[2K     \u001b[90m━━━━━━━━━━━━━━━━━━━━━━━━━━━━━━━━━━━━━━━━\u001b[0m \u001b[32m2.1/2.1 MB\u001b[0m \u001b[31m53.5 MB/s\u001b[0m eta \u001b[36m0:00:00\u001b[0m\n",
            "\u001b[?25hCollecting pyzstd>=0.14.4 (from py7zr)\n",
            "  Downloading pyzstd-0.15.7-cp310-cp310-manylinux_2_17_x86_64.manylinux2014_x86_64.whl (399 kB)\n",
            "\u001b[2K     \u001b[90m━━━━━━━━━━━━━━━━━━━━━━━━━━━━━━━━━━━━━━\u001b[0m \u001b[32m399.3/399.3 kB\u001b[0m \u001b[31m42.2 MB/s\u001b[0m eta \u001b[36m0:00:00\u001b[0m\n",
            "\u001b[?25hCollecting pyppmd<1.1.0,>=0.18.1 (from py7zr)\n",
            "  Downloading pyppmd-1.0.0-cp310-cp310-manylinux_2_17_x86_64.manylinux2014_x86_64.whl (138 kB)\n",
            "\u001b[2K     \u001b[90m━━━━━━━━━━━━━━━━━━━━━━━━━━━━━━━━━━━━━━\u001b[0m \u001b[32m138.8/138.8 kB\u001b[0m \u001b[31m19.4 MB/s\u001b[0m eta \u001b[36m0:00:00\u001b[0m\n",
            "\u001b[?25hCollecting pybcj>=0.6.0 (from py7zr)\n",
            "  Downloading pybcj-1.0.1-cp310-cp310-manylinux_2_17_x86_64.manylinux2014_x86_64.whl (49 kB)\n",
            "\u001b[2K     \u001b[90m━━━━━━━━━━━━━━━━━━━━━━━━━━━━━━━━━━━━━━━━\u001b[0m \u001b[32m49.8/49.8 kB\u001b[0m \u001b[31m6.7 MB/s\u001b[0m eta \u001b[36m0:00:00\u001b[0m\n",
            "\u001b[?25hCollecting multivolumefile>=0.2.3 (from py7zr)\n",
            "  Downloading multivolumefile-0.2.3-py3-none-any.whl (17 kB)\n",
            "Collecting brotli>=1.0.9 (from py7zr)\n",
            "  Downloading Brotli-1.0.9-cp310-cp310-manylinux_2_5_x86_64.manylinux1_x86_64.manylinux_2_12_x86_64.manylinux2010_x86_64.whl (2.7 MB)\n",
            "\u001b[2K     \u001b[90m━━━━━━━━━━━━━━━━━━━━━━━━━━━━━━━━━━━━━━━━\u001b[0m \u001b[32m2.7/2.7 MB\u001b[0m \u001b[31m74.2 MB/s\u001b[0m eta \u001b[36m0:00:00\u001b[0m\n",
            "\u001b[?25hCollecting inflate64>=0.3.1 (from py7zr)\n",
            "  Downloading inflate64-0.3.1-cp310-cp310-manylinux_2_17_x86_64.manylinux2014_x86_64.whl (93 kB)\n",
            "\u001b[2K     \u001b[90m━━━━━━━━━━━━━━━━━━━━━━━━━━━━━━━━━━━━━━━━\u001b[0m \u001b[32m93.1/93.1 kB\u001b[0m \u001b[31m11.7 MB/s\u001b[0m eta \u001b[36m0:00:00\u001b[0m\n",
            "\u001b[?25hRequirement already satisfied: psutil in /usr/local/lib/python3.10/dist-packages (from py7zr) (5.9.5)\n",
            "Installing collected packages: texttable, brotli, pyzstd, pyppmd, pycryptodomex, pybcj, multivolumefile, inflate64, py7zr\n",
            "Successfully installed brotli-1.0.9 inflate64-0.3.1 multivolumefile-0.2.3 py7zr-0.20.5 pybcj-1.0.1 pycryptodomex-3.17 pyppmd-1.0.0 pyzstd-0.15.7 texttable-1.6.7\n"
          ]
        }
      ],
      "source": [
        "from google.colab import drive\n",
        "drive.mount('/content/drive')\n",
        "!pip install py7zr"
      ]
    },
    {
      "cell_type": "code",
      "execution_count": null,
      "metadata": {
        "id": "05mGOw85ZDrd"
      },
      "outputs": [],
      "source": [
        "import py7zr\n",
        "\n",
        "with py7zr.SevenZipFile('/content/drive/MyDrive/data.7z', mode='r') as archive:\n",
        "    archive.extractall(path='/content/data')\n"
      ]
    },
    {
      "cell_type": "code",
      "execution_count": null,
      "metadata": {
        "id": "NKVUquBrWzOx"
      },
      "outputs": [],
      "source": [
        "# Image Preparation\n",
        "from image_processor import ImageProcessor\n",
        "\n",
        "csv_path = \"/content/New_labels.csv\"\n",
        "image_folder = \"/content/data/data/\"\n",
        "\n",
        "processor = ImageProcessor(csv_path, image_folder)\n",
        "img_data, labels = processor.process_images()\n",
        "\n",
        "\n"
      ]
    },
    {
      "cell_type": "code",
      "execution_count": null,
      "metadata": {
        "id": "LOs6j2yTYT8r"
      },
      "outputs": [],
      "source": [
        "# Data Preparation\n",
        "from data_preprocessor import DataPreprocessor\n",
        "preprocessor = DataPreprocessor(img_data, labels)\n",
        "train_images, val_images, train_labels, val_labels = preprocessor.preprocess_data()\n"
      ]
    },
    {
      "cell_type": "code",
      "execution_count": null,
      "metadata": {
        "colab": {
          "base_uri": "https://localhost:8080/"
        },
        "id": "Obil3sq9lgO8",
        "outputId": "0887094e-2abd-4505-de71-b632e10d46f8"
      },
      "outputs": [
        {
          "output_type": "stream",
          "name": "stdout",
          "text": [
            "Epoch 1/30\n",
            "400/400 [==============================] - 39s 58ms/step - loss: 3.9299 - accuracy: 0.0975 - val_loss: 8.0617 - val_accuracy: 0.0069\n",
            "Epoch 2/30\n",
            "400/400 [==============================] - 23s 58ms/step - loss: 2.3778 - accuracy: 0.2907 - val_loss: 2.0997 - val_accuracy: 0.3950\n",
            "Epoch 3/30\n",
            "400/400 [==============================] - 23s 58ms/step - loss: 1.7652 - accuracy: 0.4187 - val_loss: 1.2319 - val_accuracy: 0.6241\n",
            "Epoch 4/30\n",
            "400/400 [==============================] - 24s 59ms/step - loss: 1.4818 - accuracy: 0.5007 - val_loss: 0.9193 - val_accuracy: 0.7025\n",
            "Epoch 5/30\n",
            "400/400 [==============================] - 23s 58ms/step - loss: 1.2669 - accuracy: 0.5683 - val_loss: 1.6796 - val_accuracy: 0.5278\n",
            "Epoch 6/30\n",
            "400/400 [==============================] - 24s 59ms/step - loss: 1.1098 - accuracy: 0.6247 - val_loss: 0.7508 - val_accuracy: 0.7628\n",
            "Epoch 7/30\n",
            "400/400 [==============================] - 22s 55ms/step - loss: 0.9915 - accuracy: 0.6584 - val_loss: 0.5491 - val_accuracy: 0.8331\n",
            "Epoch 8/30\n",
            "400/400 [==============================] - 23s 58ms/step - loss: 0.8875 - accuracy: 0.6908 - val_loss: 0.4086 - val_accuracy: 0.8763\n",
            "Epoch 9/30\n",
            "400/400 [==============================] - 22s 55ms/step - loss: 0.8304 - accuracy: 0.7154 - val_loss: 0.3611 - val_accuracy: 0.9003\n",
            "Epoch 10/30\n",
            "400/400 [==============================] - 24s 59ms/step - loss: 0.7475 - accuracy: 0.7470 - val_loss: 0.2662 - val_accuracy: 0.9372\n",
            "Epoch 11/30\n",
            "400/400 [==============================] - 24s 59ms/step - loss: 0.6866 - accuracy: 0.7627 - val_loss: 2.7464 - val_accuracy: 0.4506\n",
            "Epoch 12/30\n",
            "400/400 [==============================] - 22s 56ms/step - loss: 0.6688 - accuracy: 0.7714 - val_loss: 1.5375 - val_accuracy: 0.5950\n",
            "Epoch 13/30\n",
            "400/400 [==============================] - 23s 58ms/step - loss: 0.6202 - accuracy: 0.7887 - val_loss: 0.3091 - val_accuracy: 0.9250\n",
            "Epoch 14/30\n",
            "400/400 [==============================] - 21s 53ms/step - loss: 0.5670 - accuracy: 0.8059 - val_loss: 0.4201 - val_accuracy: 0.8678\n",
            "Epoch 15/30\n",
            "400/400 [==============================] - 23s 58ms/step - loss: 0.5559 - accuracy: 0.8108 - val_loss: 0.2260 - val_accuracy: 0.9394\n",
            "Epoch 16/30\n",
            "400/400 [==============================] - 24s 59ms/step - loss: 0.5138 - accuracy: 0.8223 - val_loss: 0.2850 - val_accuracy: 0.9237\n",
            "Epoch 17/30\n",
            "400/400 [==============================] - 22s 55ms/step - loss: 0.4794 - accuracy: 0.8370 - val_loss: 0.1421 - val_accuracy: 0.9725\n",
            "Epoch 18/30\n",
            "400/400 [==============================] - 23s 57ms/step - loss: 0.4568 - accuracy: 0.8462 - val_loss: 0.2225 - val_accuracy: 0.9466\n",
            "Epoch 19/30\n",
            "400/400 [==============================] - 21s 54ms/step - loss: 0.4438 - accuracy: 0.8505 - val_loss: 0.1005 - val_accuracy: 0.9825\n",
            "Epoch 20/30\n",
            "400/400 [==============================] - 23s 57ms/step - loss: 0.4358 - accuracy: 0.8535 - val_loss: 0.1054 - val_accuracy: 0.9772\n",
            "Epoch 21/30\n",
            "400/400 [==============================] - 25s 62ms/step - loss: 0.4043 - accuracy: 0.8616 - val_loss: 0.1129 - val_accuracy: 0.9691\n",
            "Epoch 22/30\n",
            "400/400 [==============================] - 25s 63ms/step - loss: 0.4297 - accuracy: 0.8558 - val_loss: 0.0945 - val_accuracy: 0.9772\n",
            "Epoch 23/30\n",
            "400/400 [==============================] - 23s 58ms/step - loss: 0.3869 - accuracy: 0.8709 - val_loss: 0.1449 - val_accuracy: 0.9603\n",
            "Epoch 24/30\n",
            "400/400 [==============================] - 23s 57ms/step - loss: 0.3832 - accuracy: 0.8705 - val_loss: 0.0837 - val_accuracy: 0.9834\n",
            "Epoch 25/30\n",
            "400/400 [==============================] - 24s 60ms/step - loss: 0.3677 - accuracy: 0.8774 - val_loss: 0.0915 - val_accuracy: 0.9837\n",
            "Epoch 26/30\n",
            "400/400 [==============================] - 24s 59ms/step - loss: 0.3914 - accuracy: 0.8671 - val_loss: 0.0865 - val_accuracy: 0.9800\n",
            "Epoch 27/30\n",
            "400/400 [==============================] - 30s 74ms/step - loss: 0.3534 - accuracy: 0.8788 - val_loss: 0.0483 - val_accuracy: 0.9916\n",
            "Epoch 28/30\n",
            "400/400 [==============================] - 24s 60ms/step - loss: 0.3220 - accuracy: 0.8894 - val_loss: 0.0567 - val_accuracy: 0.9887\n",
            "Epoch 29/30\n",
            "400/400 [==============================] - 24s 60ms/step - loss: 0.3134 - accuracy: 0.8933 - val_loss: 0.0543 - val_accuracy: 0.9900\n",
            "Epoch 30/30\n",
            "400/400 [==============================] - 24s 60ms/step - loss: 0.3232 - accuracy: 0.8928 - val_loss: 0.0508 - val_accuracy: 0.9931\n"
          ]
        }
      ],
      "source": [
        "# Model Training\n",
        "from speaker_agent import SpeakerAgent\n",
        "agent = SpeakerAgent(train_images, train_labels, val_images, val_labels)\n",
        "model = agent.create_model()\n"
      ]
    },
    {
      "cell_type": "code",
      "source": [
        "# Define the path to save the model\n",
        "from tensorflow.keras.models import load_model\n",
        "model_path = 'speaker_agent.h5'\n",
        "\n",
        "model.save(model_path)\n",
        "loaded_model = load_model(model_path)"
      ],
      "metadata": {
        "id": "VVB7kidglZJG"
      },
      "execution_count": null,
      "outputs": []
    },
    {
      "cell_type": "markdown",
      "source": [
        "# Game Round 1"
      ],
      "metadata": {
        "id": "5iw524vdV8h0"
      }
    },
    {
      "cell_type": "code",
      "source": [
        "# Usage\n",
        "from sklearn.preprocessing import LabelEncoder\n",
        "import numpy as np\n",
        "import pandas as pd\n",
        "from image_predictor import ImagePredictor\n",
        "# Load the Excel file into a pandas DataFrame\n",
        "data = pd.read_csv(\"/content/New_labels.csv\")\n",
        "\n",
        "# Extract the filenames and labels into separate arrays\n",
        "filenames = data['Filenames'].values\n",
        "shapes = data['labels'].values\n",
        "shapes = np.array(shapes)\n",
        "label_encoder = LabelEncoder()\n",
        "labels = label_encoder.fit_transform(shapes)\n",
        "file_path = \"/content/test_image.xlsx\"\n",
        "test_img_dir = \"/content/test/\"\n",
        "\n",
        "\n",
        "test_data = pd.read_excel(file_path)\n",
        "test_img = test_data['Filepath']\n",
        "target_label = test_data['shapes']\n",
        "\n",
        "\n",
        "# Create an instance of ImagePredictor with appropriate arguments\n",
        "image_predictor = ImagePredictor(test_img_dir, loaded_model, label_encoder)\n",
        "\n",
        "# Call the predict_labels method to get the predicted labels\n",
        "predicted_labels = image_predictor.predict_labels(test_img, target_label)\n"
      ],
      "metadata": {
        "colab": {
          "base_uri": "https://localhost:8080/"
        },
        "id": "ftr2Xig9FzAb",
        "outputId": "dca3caa5-94bb-4ab3-d054-64e391b08fb4"
      },
      "execution_count": null,
      "outputs": [
        {
          "output_type": "stream",
          "name": "stdout",
          "text": [
            "1/1 [==============================] - 0s 294ms/step\n",
            "1/1 [==============================] - 0s 19ms/step\n",
            "1/1 [==============================] - 0s 20ms/step\n",
            "1/1 [==============================] - 0s 23ms/step\n",
            "1/1 [==============================] - 0s 20ms/step\n",
            "1/1 [==============================] - 0s 19ms/step\n",
            "1/1 [==============================] - 0s 21ms/step\n",
            "1/1 [==============================] - 0s 18ms/step\n",
            "1/1 [==============================] - 0s 20ms/step\n",
            "1/1 [==============================] - 0s 19ms/step\n",
            "1/1 [==============================] - 0s 20ms/step\n",
            "1/1 [==============================] - 0s 19ms/step\n",
            "1/1 [==============================] - 0s 19ms/step\n",
            "1/1 [==============================] - 0s 20ms/step\n",
            "1/1 [==============================] - 0s 20ms/step\n",
            "1/1 [==============================] - 0s 20ms/step\n",
            "1/1 [==============================] - 0s 20ms/step\n",
            "1/1 [==============================] - 0s 20ms/step\n",
            "1/1 [==============================] - 0s 20ms/step\n",
            "1/1 [==============================] - 0s 18ms/step\n",
            "1/1 [==============================] - 0s 21ms/step\n",
            "1/1 [==============================] - 0s 21ms/step\n",
            "1/1 [==============================] - 0s 20ms/step\n",
            "1/1 [==============================] - 0s 20ms/step\n",
            "1/1 [==============================] - 0s 19ms/step\n",
            "1/1 [==============================] - 0s 20ms/step\n",
            "1/1 [==============================] - 0s 19ms/step\n",
            "1/1 [==============================] - 0s 19ms/step\n",
            "1/1 [==============================] - 0s 22ms/step\n",
            "1/1 [==============================] - 0s 35ms/step\n",
            "1/1 [==============================] - 0s 30ms/step\n",
            "1/1 [==============================] - 0s 22ms/step\n",
            "1/1 [==============================] - 0s 20ms/step\n",
            "1/1 [==============================] - 0s 18ms/step\n",
            "1/1 [==============================] - 0s 21ms/step\n",
            "1/1 [==============================] - 0s 24ms/step\n",
            "1/1 [==============================] - 0s 21ms/step\n",
            "1/1 [==============================] - 0s 21ms/step\n",
            "1/1 [==============================] - 0s 18ms/step\n",
            "1/1 [==============================] - 0s 19ms/step\n",
            "1/1 [==============================] - 0s 27ms/step\n",
            "1/1 [==============================] - 0s 19ms/step\n",
            "1/1 [==============================] - 0s 19ms/step\n",
            "1/1 [==============================] - 0s 18ms/step\n",
            "1/1 [==============================] - 0s 20ms/step\n",
            "1/1 [==============================] - 0s 19ms/step\n",
            "1/1 [==============================] - 0s 20ms/step\n",
            "1/1 [==============================] - 0s 20ms/step\n",
            "1/1 [==============================] - 0s 20ms/step\n",
            "1/1 [==============================] - 0s 20ms/step\n",
            "1/1 [==============================] - 0s 22ms/step\n",
            "1/1 [==============================] - 0s 18ms/step\n",
            "1/1 [==============================] - 0s 20ms/step\n",
            "1/1 [==============================] - 0s 20ms/step\n",
            "1/1 [==============================] - 0s 19ms/step\n",
            "1/1 [==============================] - 0s 19ms/step\n",
            "1/1 [==============================] - 0s 19ms/step\n",
            "1/1 [==============================] - 0s 25ms/step\n",
            "1/1 [==============================] - 0s 19ms/step\n",
            "1/1 [==============================] - 0s 20ms/step\n",
            "1/1 [==============================] - 0s 18ms/step\n",
            "1/1 [==============================] - 0s 18ms/step\n",
            "1/1 [==============================] - 0s 19ms/step\n",
            "1/1 [==============================] - 0s 20ms/step\n",
            "1/1 [==============================] - 0s 21ms/step\n",
            "1/1 [==============================] - 0s 21ms/step\n",
            "1/1 [==============================] - 0s 19ms/step\n",
            "1/1 [==============================] - 0s 18ms/step\n",
            "1/1 [==============================] - 0s 20ms/step\n",
            "1/1 [==============================] - 0s 20ms/step\n",
            "1/1 [==============================] - 0s 20ms/step\n",
            "1/1 [==============================] - 0s 18ms/step\n",
            "1/1 [==============================] - 0s 20ms/step\n",
            "1/1 [==============================] - 0s 19ms/step\n",
            "1/1 [==============================] - 0s 19ms/step\n",
            "1/1 [==============================] - 0s 27ms/step\n",
            "1/1 [==============================] - 0s 21ms/step\n",
            "1/1 [==============================] - 0s 18ms/step\n",
            "1/1 [==============================] - 0s 18ms/step\n",
            "1/1 [==============================] - 0s 22ms/step\n"
          ]
        }
      ]
    },
    {
      "cell_type": "code",
      "source": [
        "from listener_agent import ListenerAgent\n",
        "\n",
        "file_path = \"/content/test_image.xlsx\"\n",
        "test_data = pd.read_excel(file_path)\n",
        "test_img = test_data['Filepath']\n",
        "target_label = test_data['shapes']\n",
        "test_img_dir = \"/content/test/\"\n",
        "data_path = \"/content/data/data/\"\n"
      ],
      "metadata": {
        "id": "BWBiEq8bMako"
      },
      "execution_count": null,
      "outputs": []
    },
    {
      "cell_type": "code",
      "source": [
        "# Usage example:\n",
        "from Game_env_listerner_model2 import GameEnvironmentListerModel\n",
        "listener_agent = ListenerAgent(data_path, filenames, shapes)\n",
        "game_env_lister_model = GameEnvironmentListerModel(test_img_dir, test_img, predicted_labels, listener_agent, data_path, filenames, shapes)\n"
      ],
      "metadata": {
        "id": "wqtEjiyWP1j5"
      },
      "execution_count": null,
      "outputs": []
    },
    {
      "cell_type": "code",
      "source": [
        "lis_image, lis_pred = game_env_lister_model.get_listener_model_predictions()"
      ],
      "metadata": {
        "id": "kuK9mJnnXre7"
      },
      "execution_count": null,
      "outputs": []
    },
    {
      "cell_type": "markdown",
      "source": [
        "# Round 1 reward Accuracy"
      ],
      "metadata": {
        "id": "tnHzJkjyYN-8"
      }
    },
    {
      "cell_type": "code",
      "source": [
        "from CollaborativeReward import CollaborativeReward\n",
        "collab_reward_calculator = CollaborativeReward(predicted_labels,target_label, lis_pred)\n",
        "collab_reward, true_conditions, false_conditions = collab_reward_calculator.calculate_reward()\n"
      ],
      "metadata": {
        "colab": {
          "base_uri": "https://localhost:8080/"
        },
        "id": "mqXM9jM-X0we",
        "outputId": "c4df4d1d-84c2-45f6-9494-25fba987942d"
      },
      "execution_count": null,
      "outputs": [
        {
          "output_type": "stream",
          "name": "stderr",
          "text": [
            "[nltk_data] Downloading package averaged_perceptron_tagger to\n",
            "[nltk_data]     /root/nltk_data...\n",
            "[nltk_data]   Unzipping taggers/averaged_perceptron_tagger.zip.\n"
          ]
        }
      ]
    },
    {
      "cell_type": "code",
      "source": [
        "print(collab_reward)\n",
        "collab_reward_percent = collab_reward/len(test_img)\n",
        "print(collab_reward_percent)"
      ],
      "metadata": {
        "colab": {
          "base_uri": "https://localhost:8080/"
        },
        "id": "nUC1Unhoa7_3",
        "outputId": "9573db60-95af-49c2-968e-06845080c827"
      },
      "execution_count": 2,
      "outputs": [
        {
          "output_type": "stream",
          "name": "stdout",
          "text": [
            "6\n",
            "0.075\n"
          ]
        }
      ]
    },
    {
      "cell_type": "markdown",
      "source": [
        "# Game round 2"
      ],
      "metadata": {
        "id": "LE5i-a3tVvIM"
      }
    },
    {
      "cell_type": "code",
      "source": [
        "from policy_updater import ModelUpdater\n",
        "import tensorflow as tf\n",
        "\n",
        "# Create an instance of the ModelUpdater class\n",
        "model_updater = ModelUpdater(weights_path='speaker_agent.h5')\n",
        "\n",
        "# Call the update_model method\n",
        "model, lr = model_updater.update_model(loaded_model, collab_reward_percent, train_images, train_labels, val_images, val_labels, max_epochs=30)\n",
        "\n",
        "# Save the updated model\n",
        "model_path = 'speaker_agent_updated_1.h5'\n",
        "model.save(model_path)\n",
        "\n",
        "# Load the updated model\n",
        "loaded_model = tf.keras.models.load_model(model_path)\n"
      ],
      "metadata": {
        "colab": {
          "base_uri": "https://localhost:8080/"
        },
        "id": "-byDOx5CWvgf",
        "outputId": "539f17b8-9d34-4fde-fa43-eedd02c18f35"
      },
      "execution_count": null,
      "outputs": [
        {
          "output_type": "stream",
          "name": "stdout",
          "text": [
            "Epoch 1/30\n",
            "400/400 [==============================] - 28s 60ms/step - loss: 0.2671 - accuracy: 0.9113 - val_loss: 0.0441 - val_accuracy: 0.9925\n",
            "Epoch 2/30\n",
            "400/400 [==============================] - 24s 59ms/step - loss: 0.2490 - accuracy: 0.9178 - val_loss: 0.0506 - val_accuracy: 0.9906\n",
            "Epoch 3/30\n",
            "400/400 [==============================] - 24s 59ms/step - loss: 0.2243 - accuracy: 0.9272 - val_loss: 0.0447 - val_accuracy: 0.9919\n",
            "Epoch 4/30\n",
            "400/400 [==============================] - 21s 53ms/step - loss: 0.2194 - accuracy: 0.9287 - val_loss: 0.0552 - val_accuracy: 0.9897\n",
            "Epoch 5/30\n",
            "400/400 [==============================] - 23s 57ms/step - loss: 0.2164 - accuracy: 0.9284 - val_loss: 0.0614 - val_accuracy: 0.9859\n",
            "Epoch 6/30\n",
            "400/400 [==============================] - 23s 56ms/step - loss: 0.2066 - accuracy: 0.9298 - val_loss: 0.0319 - val_accuracy: 0.9950\n",
            "Epoch 7/30\n",
            "400/400 [==============================] - 23s 58ms/step - loss: 0.2065 - accuracy: 0.9326 - val_loss: 0.0388 - val_accuracy: 0.9950\n",
            "Epoch 8/30\n",
            "400/400 [==============================] - 23s 58ms/step - loss: 0.1885 - accuracy: 0.9364 - val_loss: 0.0404 - val_accuracy: 0.9928\n",
            "Epoch 9/30\n",
            "400/400 [==============================] - 23s 56ms/step - loss: 0.2002 - accuracy: 0.9374 - val_loss: 0.0419 - val_accuracy: 0.9934\n",
            "Epoch 10/30\n",
            "400/400 [==============================] - 23s 58ms/step - loss: 0.1882 - accuracy: 0.9377 - val_loss: 0.0310 - val_accuracy: 0.9950\n",
            "Epoch 11/30\n",
            "400/400 [==============================] - 22s 55ms/step - loss: 0.1720 - accuracy: 0.9432 - val_loss: 0.0285 - val_accuracy: 0.9953\n",
            "Epoch 12/30\n",
            "400/400 [==============================] - 22s 55ms/step - loss: 0.1834 - accuracy: 0.9408 - val_loss: 0.0341 - val_accuracy: 0.9944\n",
            "Epoch 13/30\n",
            "400/400 [==============================] - 24s 60ms/step - loss: 0.1720 - accuracy: 0.9441 - val_loss: 0.0309 - val_accuracy: 0.9941\n",
            "Epoch 14/30\n",
            "400/400 [==============================] - 22s 55ms/step - loss: 0.1717 - accuracy: 0.9459 - val_loss: 0.0359 - val_accuracy: 0.9934\n",
            "Epoch 15/30\n",
            "400/400 [==============================] - 25s 63ms/step - loss: 0.1726 - accuracy: 0.9458 - val_loss: 0.0361 - val_accuracy: 0.9950\n",
            "Epoch 16/30\n",
            "400/400 [==============================] - 24s 60ms/step - loss: 0.1672 - accuracy: 0.9451 - val_loss: 0.0328 - val_accuracy: 0.9950\n",
            "Epoch 17/30\n",
            "400/400 [==============================] - 26s 64ms/step - loss: 0.1660 - accuracy: 0.9452 - val_loss: 0.1221 - val_accuracy: 0.9625\n",
            "Epoch 18/30\n",
            "400/400 [==============================] - 24s 61ms/step - loss: 0.1697 - accuracy: 0.9430 - val_loss: 0.0392 - val_accuracy: 0.9941\n",
            "Epoch 19/30\n",
            "400/400 [==============================] - 23s 58ms/step - loss: 0.1576 - accuracy: 0.9473 - val_loss: 0.0328 - val_accuracy: 0.9944\n",
            "Epoch 20/30\n",
            "400/400 [==============================] - 23s 58ms/step - loss: 0.1536 - accuracy: 0.9511 - val_loss: 0.0428 - val_accuracy: 0.9916\n",
            "Epoch 21/30\n",
            "400/400 [==============================] - 24s 61ms/step - loss: 0.1527 - accuracy: 0.9480 - val_loss: 0.0333 - val_accuracy: 0.9953\n",
            "Epoch 22/30\n",
            "400/400 [==============================] - 22s 56ms/step - loss: 0.1480 - accuracy: 0.9493 - val_loss: 0.0340 - val_accuracy: 0.9941\n",
            "Epoch 23/30\n",
            "400/400 [==============================] - 25s 62ms/step - loss: 0.1451 - accuracy: 0.9516 - val_loss: 0.0320 - val_accuracy: 0.9947\n",
            "Epoch 24/30\n",
            "400/400 [==============================] - 22s 55ms/step - loss: 0.1369 - accuracy: 0.9552 - val_loss: 0.0344 - val_accuracy: 0.9944\n",
            "Epoch 25/30\n",
            "400/400 [==============================] - 24s 59ms/step - loss: 0.1454 - accuracy: 0.9529 - val_loss: 0.0368 - val_accuracy: 0.9947\n",
            "Epoch 26/30\n",
            "400/400 [==============================] - 23s 58ms/step - loss: 0.1429 - accuracy: 0.9542 - val_loss: 0.0376 - val_accuracy: 0.9937\n",
            "Epoch 27/30\n",
            "400/400 [==============================] - 23s 57ms/step - loss: 0.1478 - accuracy: 0.9509 - val_loss: 0.0391 - val_accuracy: 0.9937\n",
            "Epoch 28/30\n",
            "400/400 [==============================] - 25s 61ms/step - loss: 0.1505 - accuracy: 0.9502 - val_loss: 0.0362 - val_accuracy: 0.9934\n",
            "Epoch 29/30\n",
            "400/400 [==============================] - 23s 57ms/step - loss: 0.1413 - accuracy: 0.9509 - val_loss: 0.0458 - val_accuracy: 0.9928\n",
            "Epoch 30/30\n",
            "400/400 [==============================] - 23s 58ms/step - loss: 0.1411 - accuracy: 0.9523 - val_loss: 0.0361 - val_accuracy: 0.9947\n"
          ]
        }
      ]
    },
    {
      "cell_type": "code",
      "source": [
        "# Create an instance of ImagePredictor with appropriate arguments\n",
        "image_predictor = ImagePredictor(test_img_dir, loaded_model, label_encoder)\n",
        "\n",
        "# Call the predict_labels method to get the predicted labels\n",
        "predicted_labels = image_predictor.predict_labels(test_img, target_label)\n",
        "listener_agent = ListenerAgent(data_path, filenames, shapes)\n",
        "game_env_lister_model = GameEnvironmentListerModel(test_img_dir, test_img, predicted_labels, listener_agent, data_path, filenames, shapes)\n",
        "lis_image, lis_pred = game_env_lister_model.get_listener_model_predictions()"
      ],
      "metadata": {
        "id": "yBbo6A6PX7aU",
        "colab": {
          "base_uri": "https://localhost:8080/"
        },
        "outputId": "63435fda-5ca0-41f6-8342-baf5dcf735bf"
      },
      "execution_count": null,
      "outputs": [
        {
          "output_type": "stream",
          "name": "stdout",
          "text": [
            "1/1 [==============================] - 0s 129ms/step\n",
            "1/1 [==============================] - 0s 19ms/step\n",
            "1/1 [==============================] - 0s 18ms/step\n",
            "1/1 [==============================] - 0s 19ms/step\n",
            "1/1 [==============================] - 0s 20ms/step\n",
            "1/1 [==============================] - 0s 19ms/step\n",
            "1/1 [==============================] - 0s 18ms/step\n",
            "1/1 [==============================] - 0s 21ms/step\n",
            "1/1 [==============================] - 0s 21ms/step\n",
            "1/1 [==============================] - 0s 20ms/step\n",
            "1/1 [==============================] - 0s 21ms/step\n",
            "1/1 [==============================] - 0s 19ms/step\n",
            "1/1 [==============================] - 0s 21ms/step\n",
            "1/1 [==============================] - 0s 21ms/step\n",
            "1/1 [==============================] - 0s 18ms/step\n",
            "1/1 [==============================] - 0s 18ms/step\n",
            "1/1 [==============================] - 0s 21ms/step\n",
            "1/1 [==============================] - 0s 18ms/step\n",
            "1/1 [==============================] - 0s 20ms/step\n",
            "1/1 [==============================] - 0s 19ms/step\n",
            "1/1 [==============================] - 0s 19ms/step\n",
            "1/1 [==============================] - 0s 22ms/step\n",
            "1/1 [==============================] - 0s 19ms/step\n",
            "1/1 [==============================] - 0s 24ms/step\n",
            "1/1 [==============================] - 0s 20ms/step\n",
            "1/1 [==============================] - 0s 19ms/step\n",
            "1/1 [==============================] - 0s 20ms/step\n",
            "1/1 [==============================] - 0s 19ms/step\n",
            "1/1 [==============================] - 0s 19ms/step\n",
            "1/1 [==============================] - 0s 19ms/step\n",
            "1/1 [==============================] - 0s 22ms/step\n",
            "1/1 [==============================] - 0s 21ms/step\n",
            "1/1 [==============================] - 0s 20ms/step\n",
            "1/1 [==============================] - 0s 20ms/step\n",
            "1/1 [==============================] - 0s 23ms/step\n",
            "1/1 [==============================] - 0s 27ms/step\n",
            "1/1 [==============================] - 0s 19ms/step\n",
            "1/1 [==============================] - 0s 21ms/step\n",
            "1/1 [==============================] - 0s 23ms/step\n",
            "1/1 [==============================] - 0s 23ms/step\n",
            "1/1 [==============================] - 0s 21ms/step\n",
            "1/1 [==============================] - 0s 21ms/step\n",
            "1/1 [==============================] - 0s 22ms/step\n",
            "1/1 [==============================] - 0s 25ms/step\n",
            "1/1 [==============================] - 0s 22ms/step\n",
            "1/1 [==============================] - 0s 19ms/step\n",
            "1/1 [==============================] - 0s 29ms/step\n",
            "1/1 [==============================] - 0s 32ms/step\n",
            "1/1 [==============================] - 0s 34ms/step\n",
            "1/1 [==============================] - 0s 38ms/step\n",
            "1/1 [==============================] - 0s 27ms/step\n",
            "1/1 [==============================] - 0s 26ms/step\n",
            "1/1 [==============================] - 0s 33ms/step\n",
            "1/1 [==============================] - 0s 29ms/step\n",
            "1/1 [==============================] - 0s 32ms/step\n",
            "1/1 [==============================] - 0s 28ms/step\n",
            "1/1 [==============================] - 0s 30ms/step\n",
            "1/1 [==============================] - 0s 29ms/step\n",
            "1/1 [==============================] - 0s 28ms/step\n",
            "1/1 [==============================] - 0s 30ms/step\n",
            "1/1 [==============================] - 0s 30ms/step\n",
            "1/1 [==============================] - 0s 27ms/step\n",
            "1/1 [==============================] - 0s 27ms/step\n",
            "1/1 [==============================] - 0s 30ms/step\n",
            "1/1 [==============================] - 0s 28ms/step\n",
            "1/1 [==============================] - 0s 28ms/step\n",
            "1/1 [==============================] - 0s 39ms/step\n",
            "1/1 [==============================] - 0s 28ms/step\n",
            "1/1 [==============================] - 0s 32ms/step\n",
            "1/1 [==============================] - 0s 34ms/step\n",
            "1/1 [==============================] - 0s 30ms/step\n",
            "1/1 [==============================] - 0s 28ms/step\n",
            "1/1 [==============================] - 0s 27ms/step\n",
            "1/1 [==============================] - 0s 40ms/step\n",
            "1/1 [==============================] - 0s 28ms/step\n",
            "1/1 [==============================] - 0s 29ms/step\n",
            "1/1 [==============================] - 0s 30ms/step\n",
            "1/1 [==============================] - 0s 28ms/step\n",
            "1/1 [==============================] - 0s 28ms/step\n",
            "1/1 [==============================] - 0s 30ms/step\n"
          ]
        }
      ]
    },
    {
      "cell_type": "code",
      "source": [
        "collab_reward_calculator = CollaborativeReward(predicted_labels,target_label, lis_pred)\n",
        "collab_reward, true_conditions, false_conditions = collab_reward_calculator.calculate_reward()\n"
      ],
      "metadata": {
        "id": "5c37e6iHYADp"
      },
      "execution_count": null,
      "outputs": []
    },
    {
      "cell_type": "code",
      "source": [
        "print(collab_reward)\n",
        "collab_reward_percent = collab_reward/len(test_img)\n",
        "print(collab_reward_percent)"
      ],
      "metadata": {
        "colab": {
          "base_uri": "https://localhost:8080/"
        },
        "id": "oQEHGilCYJJG",
        "outputId": "bca4d502-880e-4410-c974-0547934a3eec"
      },
      "execution_count": 4,
      "outputs": [
        {
          "output_type": "stream",
          "name": "stdout",
          "text": [
            "9\n",
            "0.1125\n"
          ]
        }
      ]
    },
    {
      "cell_type": "markdown",
      "source": [
        "# Game Round 3"
      ],
      "metadata": {
        "id": "0pPMG-SUaUiN"
      }
    },
    {
      "cell_type": "code",
      "source": [
        "# Create an instance of the ModelUpdater class\n",
        "model_updater = ModelUpdater(weights_path='speaker_agent_updated_1.h5')\n",
        "\n",
        "# Call the update_model method\n",
        "model, lr = model_updater.update_model(loaded_model, collab_reward_percent, train_images, train_labels, val_images, val_labels, max_epochs=30)\n",
        "\n",
        "# Save the updated model\n",
        "model_path = 'speaker_agent_updated_2.h5'\n",
        "model.save(model_path)\n",
        "\n",
        "# Load the updated model\n",
        "loaded_model = tf.keras.models.load_model(model_path)\n"
      ],
      "metadata": {
        "colab": {
          "base_uri": "https://localhost:8080/"
        },
        "id": "J0V7qSNbaQIM",
        "outputId": "f1be2581-8d82-469e-dead-68e75c77518d"
      },
      "execution_count": null,
      "outputs": [
        {
          "output_type": "stream",
          "name": "stdout",
          "text": [
            "Epoch 1/30\n",
            "400/400 [==============================] - 29s 62ms/step - loss: 0.1445 - accuracy: 0.9534 - val_loss: 0.0344 - val_accuracy: 0.9947\n",
            "Epoch 2/30\n",
            "400/400 [==============================] - 26s 65ms/step - loss: 0.1448 - accuracy: 0.9552 - val_loss: 0.0629 - val_accuracy: 0.9881\n",
            "Epoch 3/30\n",
            "400/400 [==============================] - 24s 60ms/step - loss: 0.1401 - accuracy: 0.9545 - val_loss: 0.0289 - val_accuracy: 0.9947\n",
            "Epoch 4/30\n",
            "400/400 [==============================] - 23s 57ms/step - loss: 0.1352 - accuracy: 0.9566 - val_loss: 0.0376 - val_accuracy: 0.9934\n",
            "Epoch 5/30\n",
            "400/400 [==============================] - 23s 58ms/step - loss: 0.1253 - accuracy: 0.9588 - val_loss: 0.0434 - val_accuracy: 0.9912\n",
            "Epoch 6/30\n",
            "400/400 [==============================] - 24s 59ms/step - loss: 0.1286 - accuracy: 0.9572 - val_loss: 0.0364 - val_accuracy: 0.9941\n",
            "Epoch 7/30\n",
            "400/400 [==============================] - 25s 61ms/step - loss: 0.1216 - accuracy: 0.9613 - val_loss: 0.0376 - val_accuracy: 0.9931\n",
            "Epoch 8/30\n",
            "400/400 [==============================] - 24s 59ms/step - loss: 0.1302 - accuracy: 0.9580 - val_loss: 0.0365 - val_accuracy: 0.9941\n",
            "Epoch 9/30\n",
            "400/400 [==============================] - 24s 60ms/step - loss: 0.1231 - accuracy: 0.9567 - val_loss: 0.0326 - val_accuracy: 0.9950\n",
            "Epoch 10/30\n",
            "400/400 [==============================] - 23s 57ms/step - loss: 0.1237 - accuracy: 0.9605 - val_loss: 0.0299 - val_accuracy: 0.9947\n",
            "Epoch 11/30\n",
            "400/400 [==============================] - 23s 58ms/step - loss: 0.1244 - accuracy: 0.9570 - val_loss: 0.0357 - val_accuracy: 0.9937\n",
            "Epoch 12/30\n",
            "400/400 [==============================] - 24s 61ms/step - loss: 0.1194 - accuracy: 0.9611 - val_loss: 0.0971 - val_accuracy: 0.9769\n",
            "Epoch 13/30\n",
            "400/400 [==============================] - 23s 58ms/step - loss: 0.1340 - accuracy: 0.9548 - val_loss: 0.0381 - val_accuracy: 0.9941\n",
            "Epoch 14/30\n",
            "400/400 [==============================] - 24s 60ms/step - loss: 0.1183 - accuracy: 0.9598 - val_loss: 0.0379 - val_accuracy: 0.9947\n",
            "Epoch 15/30\n",
            "400/400 [==============================] - 23s 57ms/step - loss: 0.1242 - accuracy: 0.9596 - val_loss: 0.0361 - val_accuracy: 0.9947\n",
            "Epoch 16/30\n",
            "400/400 [==============================] - 25s 62ms/step - loss: 0.1194 - accuracy: 0.9584 - val_loss: 0.0337 - val_accuracy: 0.9941\n",
            "Epoch 17/30\n",
            "400/400 [==============================] - 25s 62ms/step - loss: 0.1187 - accuracy: 0.9622 - val_loss: 0.0342 - val_accuracy: 0.9944\n",
            "Epoch 18/30\n",
            "400/400 [==============================] - 23s 58ms/step - loss: 0.1058 - accuracy: 0.9659 - val_loss: 0.0374 - val_accuracy: 0.9947\n",
            "Epoch 19/30\n",
            "400/400 [==============================] - 24s 59ms/step - loss: 0.1144 - accuracy: 0.9617 - val_loss: 0.0330 - val_accuracy: 0.9944\n",
            "Epoch 20/30\n",
            "400/400 [==============================] - 24s 60ms/step - loss: 0.1134 - accuracy: 0.9620 - val_loss: 0.0721 - val_accuracy: 0.9834\n",
            "Epoch 21/30\n",
            "400/400 [==============================] - 23s 58ms/step - loss: 0.1080 - accuracy: 0.9637 - val_loss: 0.0350 - val_accuracy: 0.9937\n",
            "Epoch 22/30\n",
            "400/400 [==============================] - 23s 58ms/step - loss: 0.1115 - accuracy: 0.9620 - val_loss: 0.0339 - val_accuracy: 0.9950\n",
            "Epoch 23/30\n",
            "400/400 [==============================] - 22s 55ms/step - loss: 0.1138 - accuracy: 0.9630 - val_loss: 0.0464 - val_accuracy: 0.9887\n",
            "Epoch 24/30\n",
            "400/400 [==============================] - 24s 59ms/step - loss: 0.1167 - accuracy: 0.9598 - val_loss: 0.0338 - val_accuracy: 0.9950\n",
            "Epoch 25/30\n",
            "400/400 [==============================] - 22s 56ms/step - loss: 0.1035 - accuracy: 0.9658 - val_loss: 0.0376 - val_accuracy: 0.9934\n",
            "Epoch 26/30\n",
            "400/400 [==============================] - 24s 60ms/step - loss: 0.1146 - accuracy: 0.9633 - val_loss: 0.0312 - val_accuracy: 0.9947\n",
            "Epoch 27/30\n",
            "400/400 [==============================] - 24s 60ms/step - loss: 0.1072 - accuracy: 0.9648 - val_loss: 0.0519 - val_accuracy: 0.9897\n",
            "Epoch 28/30\n",
            "400/400 [==============================] - 22s 54ms/step - loss: 0.1029 - accuracy: 0.9660 - val_loss: 0.0307 - val_accuracy: 0.9953\n",
            "Epoch 29/30\n",
            "400/400 [==============================] - 22s 55ms/step - loss: 0.1065 - accuracy: 0.9641 - val_loss: 0.0302 - val_accuracy: 0.9953\n",
            "Epoch 30/30\n",
            "400/400 [==============================] - 24s 60ms/step - loss: 0.1043 - accuracy: 0.9667 - val_loss: 0.0369 - val_accuracy: 0.9937\n"
          ]
        }
      ]
    },
    {
      "cell_type": "code",
      "source": [
        "# Create an instance of ImagePredictor with appropriate arguments\n",
        "image_predictor = ImagePredictor(test_img_dir, loaded_model, label_encoder)\n",
        "\n",
        "# Call the predict_labels method to get the predicted labels\n",
        "predicted_labels = image_predictor.predict_labels(test_img, target_label)\n",
        "listener_agent = ListenerAgent(data_path, filenames, shapes)\n",
        "game_env_lister_model = GameEnvironmentListerModel(test_img_dir, test_img, predicted_labels, listener_agent, data_path, filenames, shapes)\n",
        "lis_image, lis_pred = game_env_lister_model.get_listener_model_predictions()"
      ],
      "metadata": {
        "colab": {
          "base_uri": "https://localhost:8080/"
        },
        "id": "0zNv-LYMan2N",
        "outputId": "3687f429-097e-4324-ed19-45876d213bf0"
      },
      "execution_count": null,
      "outputs": [
        {
          "output_type": "stream",
          "name": "stdout",
          "text": [
            "1/1 [==============================] - 0s 207ms/step\n",
            "1/1 [==============================] - 0s 34ms/step\n",
            "1/1 [==============================] - 0s 30ms/step\n",
            "1/1 [==============================] - 0s 20ms/step\n",
            "1/1 [==============================] - 0s 19ms/step\n",
            "1/1 [==============================] - 0s 18ms/step\n",
            "1/1 [==============================] - 0s 17ms/step\n",
            "1/1 [==============================] - 0s 18ms/step\n",
            "1/1 [==============================] - 0s 19ms/step\n",
            "1/1 [==============================] - 0s 18ms/step\n",
            "1/1 [==============================] - 0s 20ms/step\n",
            "1/1 [==============================] - 0s 20ms/step\n",
            "1/1 [==============================] - 0s 20ms/step\n",
            "1/1 [==============================] - 0s 21ms/step\n",
            "1/1 [==============================] - 0s 22ms/step\n",
            "1/1 [==============================] - 0s 21ms/step\n",
            "1/1 [==============================] - 0s 19ms/step\n",
            "1/1 [==============================] - 0s 21ms/step\n",
            "1/1 [==============================] - 0s 28ms/step\n",
            "1/1 [==============================] - 0s 19ms/step\n",
            "1/1 [==============================] - 0s 19ms/step\n",
            "1/1 [==============================] - 0s 22ms/step\n",
            "1/1 [==============================] - 0s 21ms/step\n",
            "1/1 [==============================] - 0s 20ms/step\n",
            "1/1 [==============================] - 0s 21ms/step\n",
            "1/1 [==============================] - 0s 20ms/step\n",
            "1/1 [==============================] - 0s 22ms/step\n",
            "1/1 [==============================] - 0s 21ms/step\n",
            "1/1 [==============================] - 0s 22ms/step\n",
            "1/1 [==============================] - 0s 26ms/step\n",
            "1/1 [==============================] - 0s 21ms/step\n",
            "1/1 [==============================] - 0s 21ms/step\n",
            "1/1 [==============================] - 0s 19ms/step\n",
            "1/1 [==============================] - 0s 22ms/step\n",
            "1/1 [==============================] - 0s 23ms/step\n",
            "1/1 [==============================] - 0s 20ms/step\n",
            "1/1 [==============================] - 0s 21ms/step\n",
            "1/1 [==============================] - 0s 19ms/step\n",
            "1/1 [==============================] - 0s 21ms/step\n",
            "1/1 [==============================] - 0s 19ms/step\n",
            "1/1 [==============================] - 0s 19ms/step\n",
            "1/1 [==============================] - 0s 22ms/step\n",
            "1/1 [==============================] - 0s 23ms/step\n",
            "1/1 [==============================] - 0s 21ms/step\n",
            "1/1 [==============================] - 0s 19ms/step\n",
            "1/1 [==============================] - 0s 19ms/step\n",
            "1/1 [==============================] - 0s 20ms/step\n",
            "1/1 [==============================] - 0s 19ms/step\n",
            "1/1 [==============================] - 0s 19ms/step\n",
            "1/1 [==============================] - 0s 18ms/step\n",
            "1/1 [==============================] - 0s 19ms/step\n",
            "1/1 [==============================] - 0s 23ms/step\n",
            "1/1 [==============================] - 0s 19ms/step\n",
            "1/1 [==============================] - 0s 21ms/step\n",
            "1/1 [==============================] - 0s 19ms/step\n",
            "1/1 [==============================] - 0s 21ms/step\n",
            "1/1 [==============================] - 0s 22ms/step\n",
            "1/1 [==============================] - 0s 19ms/step\n",
            "1/1 [==============================] - 0s 19ms/step\n",
            "1/1 [==============================] - 0s 20ms/step\n",
            "1/1 [==============================] - 0s 20ms/step\n",
            "1/1 [==============================] - 0s 26ms/step\n",
            "1/1 [==============================] - 0s 18ms/step\n",
            "1/1 [==============================] - 0s 20ms/step\n",
            "1/1 [==============================] - 0s 19ms/step\n",
            "1/1 [==============================] - 0s 19ms/step\n",
            "1/1 [==============================] - 0s 19ms/step\n",
            "1/1 [==============================] - 0s 17ms/step\n",
            "1/1 [==============================] - 0s 21ms/step\n",
            "1/1 [==============================] - 0s 21ms/step\n",
            "1/1 [==============================] - 0s 19ms/step\n",
            "1/1 [==============================] - 0s 18ms/step\n",
            "1/1 [==============================] - 0s 19ms/step\n",
            "1/1 [==============================] - 0s 19ms/step\n",
            "1/1 [==============================] - 0s 20ms/step\n",
            "1/1 [==============================] - 0s 19ms/step\n",
            "1/1 [==============================] - 0s 18ms/step\n",
            "1/1 [==============================] - 0s 19ms/step\n",
            "1/1 [==============================] - 0s 19ms/step\n",
            "1/1 [==============================] - 0s 21ms/step\n"
          ]
        }
      ]
    },
    {
      "cell_type": "code",
      "source": [
        "collab_reward_calculator = CollaborativeReward(predicted_labels,target_label, lis_pred)\n",
        "collab_reward, true_conditions, false_conditions = collab_reward_calculator.calculate_reward()\n"
      ],
      "metadata": {
        "id": "9warqPjFbF2A"
      },
      "execution_count": null,
      "outputs": []
    },
    {
      "cell_type": "code",
      "source": [
        "print(collab_reward)\n",
        "collab_reward_percent = collab_reward/len(test_img)\n",
        "print(collab_reward_percent)"
      ],
      "metadata": {
        "colab": {
          "base_uri": "https://localhost:8080/"
        },
        "id": "eJbZ4Np6bP0U",
        "outputId": "c9634086-2921-40c5-f3b7-686f70803f1f"
      },
      "execution_count": 6,
      "outputs": [
        {
          "output_type": "stream",
          "name": "stdout",
          "text": [
            "11\n",
            "0.1375\n"
          ]
        }
      ]
    }
  ],
  "metadata": {
    "accelerator": "GPU",
    "colab": {
      "provenance": []
    },
    "gpuClass": "standard",
    "kernelspec": {
      "display_name": "Python 3",
      "name": "python3"
    },
    "language_info": {
      "name": "python"
    }
  },
  "nbformat": 4,
  "nbformat_minor": 0
}